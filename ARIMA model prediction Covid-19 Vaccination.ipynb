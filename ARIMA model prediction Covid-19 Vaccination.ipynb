{
 "cells": [
  {
   "cell_type": "code",
   "execution_count": 1,
   "metadata": {},
   "outputs": [],
   "source": [
    "import pandas as pd\n",
    "import numpy as np\n",
    "import matplotlib.pyplot as plt, seaborn as sns\n",
    "import scipy\n",
    "import warnings\n",
    "import plotly.express as px\n",
    "import statsmodels.api as sm\n",
    "from itertools import product\n",
    "from tqdm import tqdm\n",
    "warnings.filterwarnings('ignore')\n",
    "date_cols = ['date']"
   ]
  },
  {
   "cell_type": "code",
   "execution_count": 2,
   "metadata": {},
   "outputs": [],
   "source": [
    "df = pd.read_csv(r'C:\\Users\\Divyanshu Chaudhari\\Downloads\\country_vaccinations_new.csv',parse_dates = date_cols)"
   ]
  },
  {
   "cell_type": "code",
   "execution_count": 3,
   "metadata": {},
   "outputs": [
    {
     "data": {
      "text/html": [
       "<div>\n",
       "<style scoped>\n",
       "    .dataframe tbody tr th:only-of-type {\n",
       "        vertical-align: middle;\n",
       "    }\n",
       "\n",
       "    .dataframe tbody tr th {\n",
       "        vertical-align: top;\n",
       "    }\n",
       "\n",
       "    .dataframe thead th {\n",
       "        text-align: right;\n",
       "    }\n",
       "</style>\n",
       "<table border=\"1\" class=\"dataframe\">\n",
       "  <thead>\n",
       "    <tr style=\"text-align: right;\">\n",
       "      <th></th>\n",
       "      <th>country</th>\n",
       "      <th>iso_code</th>\n",
       "      <th>date</th>\n",
       "      <th>total_vaccinations</th>\n",
       "      <th>people_vaccinated</th>\n",
       "      <th>people_fully_vaccinated</th>\n",
       "      <th>daily_vaccinations_raw</th>\n",
       "      <th>daily_vaccinations</th>\n",
       "      <th>total_vaccinations_per_hundred</th>\n",
       "      <th>people_vaccinated_per_hundred</th>\n",
       "      <th>people_fully_vaccinated_per_hundred</th>\n",
       "      <th>daily_vaccinations_per_million</th>\n",
       "      <th>vaccines</th>\n",
       "      <th>source_name</th>\n",
       "      <th>source_website</th>\n",
       "    </tr>\n",
       "  </thead>\n",
       "  <tbody>\n",
       "    <tr>\n",
       "      <th>18759</th>\n",
       "      <td>Zimbabwe</td>\n",
       "      <td>ZWE</td>\n",
       "      <td>2021-05-14</td>\n",
       "      <td>775241.0</td>\n",
       "      <td>571460.0</td>\n",
       "      <td>203781.0</td>\n",
       "      <td>23221.0</td>\n",
       "      <td>19211.0</td>\n",
       "      <td>5.22</td>\n",
       "      <td>3.84</td>\n",
       "      <td>1.37</td>\n",
       "      <td>1293.0</td>\n",
       "      <td>Sinopharm/Beijing</td>\n",
       "      <td>Ministry of Health</td>\n",
       "      <td>https://twitter.com/MoHCCZim/status/1394757158...</td>\n",
       "    </tr>\n",
       "    <tr>\n",
       "      <th>18760</th>\n",
       "      <td>Zimbabwe</td>\n",
       "      <td>ZWE</td>\n",
       "      <td>2021-05-15</td>\n",
       "      <td>793311.0</td>\n",
       "      <td>579769.0</td>\n",
       "      <td>213542.0</td>\n",
       "      <td>18070.0</td>\n",
       "      <td>19353.0</td>\n",
       "      <td>5.34</td>\n",
       "      <td>3.90</td>\n",
       "      <td>1.44</td>\n",
       "      <td>1302.0</td>\n",
       "      <td>Sinopharm/Beijing</td>\n",
       "      <td>Ministry of Health</td>\n",
       "      <td>https://twitter.com/MoHCCZim/status/1394757158...</td>\n",
       "    </tr>\n",
       "    <tr>\n",
       "      <th>18761</th>\n",
       "      <td>Zimbabwe</td>\n",
       "      <td>ZWE</td>\n",
       "      <td>2021-05-16</td>\n",
       "      <td>796947.0</td>\n",
       "      <td>581615.0</td>\n",
       "      <td>215332.0</td>\n",
       "      <td>3636.0</td>\n",
       "      <td>16101.0</td>\n",
       "      <td>5.36</td>\n",
       "      <td>3.91</td>\n",
       "      <td>1.45</td>\n",
       "      <td>1083.0</td>\n",
       "      <td>Sinopharm/Beijing</td>\n",
       "      <td>Ministry of Health</td>\n",
       "      <td>https://twitter.com/MoHCCZim/status/1394757158...</td>\n",
       "    </tr>\n",
       "    <tr>\n",
       "      <th>18762</th>\n",
       "      <td>Zimbabwe</td>\n",
       "      <td>ZWE</td>\n",
       "      <td>2021-05-17</td>\n",
       "      <td>814258.0</td>\n",
       "      <td>591808.0</td>\n",
       "      <td>222450.0</td>\n",
       "      <td>17311.0</td>\n",
       "      <td>17658.0</td>\n",
       "      <td>5.48</td>\n",
       "      <td>3.98</td>\n",
       "      <td>1.50</td>\n",
       "      <td>1188.0</td>\n",
       "      <td>Sinopharm/Beijing</td>\n",
       "      <td>Ministry of Health</td>\n",
       "      <td>https://twitter.com/MoHCCZim/status/1394757158...</td>\n",
       "    </tr>\n",
       "    <tr>\n",
       "      <th>18763</th>\n",
       "      <td>Zimbabwe</td>\n",
       "      <td>ZWE</td>\n",
       "      <td>2021-05-18</td>\n",
       "      <td>831954.0</td>\n",
       "      <td>600579.0</td>\n",
       "      <td>231375.0</td>\n",
       "      <td>17696.0</td>\n",
       "      <td>17455.0</td>\n",
       "      <td>5.60</td>\n",
       "      <td>4.04</td>\n",
       "      <td>1.56</td>\n",
       "      <td>1174.0</td>\n",
       "      <td>Sinopharm/Beijing</td>\n",
       "      <td>Ministry of Health</td>\n",
       "      <td>https://twitter.com/MoHCCZim/status/1394757158...</td>\n",
       "    </tr>\n",
       "  </tbody>\n",
       "</table>\n",
       "</div>"
      ],
      "text/plain": [
       "        country iso_code       date  total_vaccinations  people_vaccinated  \\\n",
       "18759  Zimbabwe      ZWE 2021-05-14            775241.0           571460.0   \n",
       "18760  Zimbabwe      ZWE 2021-05-15            793311.0           579769.0   \n",
       "18761  Zimbabwe      ZWE 2021-05-16            796947.0           581615.0   \n",
       "18762  Zimbabwe      ZWE 2021-05-17            814258.0           591808.0   \n",
       "18763  Zimbabwe      ZWE 2021-05-18            831954.0           600579.0   \n",
       "\n",
       "       people_fully_vaccinated  daily_vaccinations_raw  daily_vaccinations  \\\n",
       "18759                 203781.0                 23221.0             19211.0   \n",
       "18760                 213542.0                 18070.0             19353.0   \n",
       "18761                 215332.0                  3636.0             16101.0   \n",
       "18762                 222450.0                 17311.0             17658.0   \n",
       "18763                 231375.0                 17696.0             17455.0   \n",
       "\n",
       "       total_vaccinations_per_hundred  people_vaccinated_per_hundred  \\\n",
       "18759                            5.22                           3.84   \n",
       "18760                            5.34                           3.90   \n",
       "18761                            5.36                           3.91   \n",
       "18762                            5.48                           3.98   \n",
       "18763                            5.60                           4.04   \n",
       "\n",
       "       people_fully_vaccinated_per_hundred  daily_vaccinations_per_million  \\\n",
       "18759                                 1.37                          1293.0   \n",
       "18760                                 1.44                          1302.0   \n",
       "18761                                 1.45                          1083.0   \n",
       "18762                                 1.50                          1188.0   \n",
       "18763                                 1.56                          1174.0   \n",
       "\n",
       "                vaccines         source_name  \\\n",
       "18759  Sinopharm/Beijing  Ministry of Health   \n",
       "18760  Sinopharm/Beijing  Ministry of Health   \n",
       "18761  Sinopharm/Beijing  Ministry of Health   \n",
       "18762  Sinopharm/Beijing  Ministry of Health   \n",
       "18763  Sinopharm/Beijing  Ministry of Health   \n",
       "\n",
       "                                          source_website  \n",
       "18759  https://twitter.com/MoHCCZim/status/1394757158...  \n",
       "18760  https://twitter.com/MoHCCZim/status/1394757158...  \n",
       "18761  https://twitter.com/MoHCCZim/status/1394757158...  \n",
       "18762  https://twitter.com/MoHCCZim/status/1394757158...  \n",
       "18763  https://twitter.com/MoHCCZim/status/1394757158...  "
      ]
     },
     "execution_count": 3,
     "metadata": {},
     "output_type": "execute_result"
    }
   ],
   "source": [
    "df.tail()"
   ]
  },
  {
   "cell_type": "code",
   "execution_count": 4,
   "metadata": {},
   "outputs": [
    {
     "data": {
      "text/html": [
       "<div>\n",
       "<style scoped>\n",
       "    .dataframe tbody tr th:only-of-type {\n",
       "        vertical-align: middle;\n",
       "    }\n",
       "\n",
       "    .dataframe tbody tr th {\n",
       "        vertical-align: top;\n",
       "    }\n",
       "\n",
       "    .dataframe thead th {\n",
       "        text-align: right;\n",
       "    }\n",
       "</style>\n",
       "<table border=\"1\" class=\"dataframe\">\n",
       "  <thead>\n",
       "    <tr style=\"text-align: right;\">\n",
       "      <th></th>\n",
       "      <th>country</th>\n",
       "      <th>iso_code</th>\n",
       "      <th>date</th>\n",
       "      <th>total_vaccinations</th>\n",
       "      <th>people_vaccinated</th>\n",
       "      <th>people_fully_vaccinated</th>\n",
       "      <th>daily_vaccinations_raw</th>\n",
       "      <th>daily_vaccinations</th>\n",
       "      <th>total_vaccinations_per_hundred</th>\n",
       "      <th>people_vaccinated_per_hundred</th>\n",
       "      <th>people_fully_vaccinated_per_hundred</th>\n",
       "      <th>daily_vaccinations_per_million</th>\n",
       "      <th>vaccines</th>\n",
       "      <th>source_name</th>\n",
       "      <th>source_website</th>\n",
       "    </tr>\n",
       "  </thead>\n",
       "  <tbody>\n",
       "    <tr>\n",
       "      <th>0</th>\n",
       "      <td>Afghanistan</td>\n",
       "      <td>AFG</td>\n",
       "      <td>2021-02-22</td>\n",
       "      <td>0.0</td>\n",
       "      <td>0.0</td>\n",
       "      <td>NaN</td>\n",
       "      <td>NaN</td>\n",
       "      <td>NaN</td>\n",
       "      <td>0.0</td>\n",
       "      <td>0.0</td>\n",
       "      <td>NaN</td>\n",
       "      <td>NaN</td>\n",
       "      <td>Oxford/AstraZeneca, Pfizer/BioNTech, Sinopharm...</td>\n",
       "      <td>World Health Organization</td>\n",
       "      <td>https://covid19.who.int/</td>\n",
       "    </tr>\n",
       "    <tr>\n",
       "      <th>1</th>\n",
       "      <td>Afghanistan</td>\n",
       "      <td>AFG</td>\n",
       "      <td>2021-02-23</td>\n",
       "      <td>NaN</td>\n",
       "      <td>NaN</td>\n",
       "      <td>NaN</td>\n",
       "      <td>NaN</td>\n",
       "      <td>1367.0</td>\n",
       "      <td>NaN</td>\n",
       "      <td>NaN</td>\n",
       "      <td>NaN</td>\n",
       "      <td>35.0</td>\n",
       "      <td>Oxford/AstraZeneca, Pfizer/BioNTech, Sinopharm...</td>\n",
       "      <td>World Health Organization</td>\n",
       "      <td>https://covid19.who.int/</td>\n",
       "    </tr>\n",
       "    <tr>\n",
       "      <th>2</th>\n",
       "      <td>Afghanistan</td>\n",
       "      <td>AFG</td>\n",
       "      <td>2021-02-24</td>\n",
       "      <td>NaN</td>\n",
       "      <td>NaN</td>\n",
       "      <td>NaN</td>\n",
       "      <td>NaN</td>\n",
       "      <td>1367.0</td>\n",
       "      <td>NaN</td>\n",
       "      <td>NaN</td>\n",
       "      <td>NaN</td>\n",
       "      <td>35.0</td>\n",
       "      <td>Oxford/AstraZeneca, Pfizer/BioNTech, Sinopharm...</td>\n",
       "      <td>World Health Organization</td>\n",
       "      <td>https://covid19.who.int/</td>\n",
       "    </tr>\n",
       "    <tr>\n",
       "      <th>3</th>\n",
       "      <td>Afghanistan</td>\n",
       "      <td>AFG</td>\n",
       "      <td>2021-02-25</td>\n",
       "      <td>NaN</td>\n",
       "      <td>NaN</td>\n",
       "      <td>NaN</td>\n",
       "      <td>NaN</td>\n",
       "      <td>1367.0</td>\n",
       "      <td>NaN</td>\n",
       "      <td>NaN</td>\n",
       "      <td>NaN</td>\n",
       "      <td>35.0</td>\n",
       "      <td>Oxford/AstraZeneca, Pfizer/BioNTech, Sinopharm...</td>\n",
       "      <td>World Health Organization</td>\n",
       "      <td>https://covid19.who.int/</td>\n",
       "    </tr>\n",
       "    <tr>\n",
       "      <th>4</th>\n",
       "      <td>Afghanistan</td>\n",
       "      <td>AFG</td>\n",
       "      <td>2021-02-26</td>\n",
       "      <td>NaN</td>\n",
       "      <td>NaN</td>\n",
       "      <td>NaN</td>\n",
       "      <td>NaN</td>\n",
       "      <td>1367.0</td>\n",
       "      <td>NaN</td>\n",
       "      <td>NaN</td>\n",
       "      <td>NaN</td>\n",
       "      <td>35.0</td>\n",
       "      <td>Oxford/AstraZeneca, Pfizer/BioNTech, Sinopharm...</td>\n",
       "      <td>World Health Organization</td>\n",
       "      <td>https://covid19.who.int/</td>\n",
       "    </tr>\n",
       "  </tbody>\n",
       "</table>\n",
       "</div>"
      ],
      "text/plain": [
       "       country iso_code       date  total_vaccinations  people_vaccinated  \\\n",
       "0  Afghanistan      AFG 2021-02-22                 0.0                0.0   \n",
       "1  Afghanistan      AFG 2021-02-23                 NaN                NaN   \n",
       "2  Afghanistan      AFG 2021-02-24                 NaN                NaN   \n",
       "3  Afghanistan      AFG 2021-02-25                 NaN                NaN   \n",
       "4  Afghanistan      AFG 2021-02-26                 NaN                NaN   \n",
       "\n",
       "   people_fully_vaccinated  daily_vaccinations_raw  daily_vaccinations  \\\n",
       "0                      NaN                     NaN                 NaN   \n",
       "1                      NaN                     NaN              1367.0   \n",
       "2                      NaN                     NaN              1367.0   \n",
       "3                      NaN                     NaN              1367.0   \n",
       "4                      NaN                     NaN              1367.0   \n",
       "\n",
       "   total_vaccinations_per_hundred  people_vaccinated_per_hundred  \\\n",
       "0                             0.0                            0.0   \n",
       "1                             NaN                            NaN   \n",
       "2                             NaN                            NaN   \n",
       "3                             NaN                            NaN   \n",
       "4                             NaN                            NaN   \n",
       "\n",
       "   people_fully_vaccinated_per_hundred  daily_vaccinations_per_million  \\\n",
       "0                                  NaN                             NaN   \n",
       "1                                  NaN                            35.0   \n",
       "2                                  NaN                            35.0   \n",
       "3                                  NaN                            35.0   \n",
       "4                                  NaN                            35.0   \n",
       "\n",
       "                                            vaccines  \\\n",
       "0  Oxford/AstraZeneca, Pfizer/BioNTech, Sinopharm...   \n",
       "1  Oxford/AstraZeneca, Pfizer/BioNTech, Sinopharm...   \n",
       "2  Oxford/AstraZeneca, Pfizer/BioNTech, Sinopharm...   \n",
       "3  Oxford/AstraZeneca, Pfizer/BioNTech, Sinopharm...   \n",
       "4  Oxford/AstraZeneca, Pfizer/BioNTech, Sinopharm...   \n",
       "\n",
       "                 source_name            source_website  \n",
       "0  World Health Organization  https://covid19.who.int/  \n",
       "1  World Health Organization  https://covid19.who.int/  \n",
       "2  World Health Organization  https://covid19.who.int/  \n",
       "3  World Health Organization  https://covid19.who.int/  \n",
       "4  World Health Organization  https://covid19.who.int/  "
      ]
     },
     "execution_count": 4,
     "metadata": {},
     "output_type": "execute_result"
    }
   ],
   "source": [
    "df.head(5)"
   ]
  },
  {
   "cell_type": "markdown",
   "metadata": {},
   "source": [
    "# Data Cleaning"
   ]
  },
  {
   "cell_type": "code",
   "execution_count": 5,
   "metadata": {},
   "outputs": [
    {
     "data": {
      "text/plain": [
       "Index(['country', 'iso_code', 'date', 'total_vaccinations',\n",
       "       'people_vaccinated', 'people_fully_vaccinated',\n",
       "       'daily_vaccinations_raw', 'daily_vaccinations',\n",
       "       'total_vaccinations_per_hundred', 'people_vaccinated_per_hundred',\n",
       "       'people_fully_vaccinated_per_hundred', 'daily_vaccinations_per_million',\n",
       "       'vaccines', 'source_name', 'source_website'],\n",
       "      dtype='object')"
      ]
     },
     "execution_count": 5,
     "metadata": {},
     "output_type": "execute_result"
    }
   ],
   "source": [
    "df.columns"
   ]
  },
  {
   "cell_type": "code",
   "execution_count": 6,
   "metadata": {},
   "outputs": [
    {
     "data": {
      "text/plain": [
       "country                                    0\n",
       "iso_code                                   0\n",
       "date                                       0\n",
       "total_vaccinations                      7969\n",
       "people_vaccinated                       8726\n",
       "people_fully_vaccinated                11097\n",
       "daily_vaccinations_raw                  9766\n",
       "daily_vaccinations                       213\n",
       "total_vaccinations_per_hundred          7969\n",
       "people_vaccinated_per_hundred           8726\n",
       "people_fully_vaccinated_per_hundred    11097\n",
       "daily_vaccinations_per_million           213\n",
       "vaccines                                   0\n",
       "source_name                                0\n",
       "source_website                             0\n",
       "dtype: int64"
      ]
     },
     "execution_count": 6,
     "metadata": {},
     "output_type": "execute_result"
    }
   ],
   "source": [
    "df.isnull().sum()"
   ]
  },
  {
   "cell_type": "code",
   "execution_count": 7,
   "metadata": {},
   "outputs": [
    {
     "data": {
      "text/plain": [
       "(18764, 15)"
      ]
     },
     "execution_count": 7,
     "metadata": {},
     "output_type": "execute_result"
    }
   ],
   "source": [
    "df.shape"
   ]
  },
  {
   "cell_type": "code",
   "execution_count": 8,
   "metadata": {},
   "outputs": [],
   "source": [
    "#Droppin total_vaccinations missing data, as without this value any raw doesn't make much sense.\n",
    "df = df.drop(df[df.total_vaccinations.isna()].index)"
   ]
  },
  {
   "cell_type": "code",
   "execution_count": 9,
   "metadata": {},
   "outputs": [
    {
     "data": {
      "text/plain": [
       "(10795, 15)"
      ]
     },
     "execution_count": 9,
     "metadata": {},
     "output_type": "execute_result"
    }
   ],
   "source": [
    "df.shape"
   ]
  },
  {
   "cell_type": "code",
   "execution_count": 10,
   "metadata": {},
   "outputs": [
    {
     "data": {
      "image/png": "[encoded data removed]",
      "text/plain": [
       "<Figure size 576x576 with 2 Axes>"
      ]
     },
     "metadata": {
      "needs_background": "light"
     },
     "output_type": "display_data"
    }
   ],
   "source": [
    "plt.subplots(figsize=(8, 8))\n",
    "sns.heatmap(df.corr(), annot=True, square=True)\n",
    "plt.show()"
   ]
  },
  {
   "cell_type": "markdown",
   "metadata": {},
   "source": [
    "The values of total_vaccinations column are strongly correlated with people_vaccinated column's.4"
   ]
  },
  {
   "cell_type": "code",
   "execution_count": 11,
   "metadata": {},
   "outputs": [
    {
     "data": {
      "text/plain": [
       "country                                   0\n",
       "iso_code                                  0\n",
       "date                                      0\n",
       "total_vaccinations                        0\n",
       "people_vaccinated                       844\n",
       "people_fully_vaccinated                3129\n",
       "daily_vaccinations_raw                 1797\n",
       "daily_vaccinations                      211\n",
       "total_vaccinations_per_hundred            0\n",
       "people_vaccinated_per_hundred           844\n",
       "people_fully_vaccinated_per_hundred    3129\n",
       "daily_vaccinations_per_million          211\n",
       "vaccines                                  0\n",
       "source_name                               0\n",
       "source_website                            0\n",
       "dtype: int64"
      ]
     },
     "execution_count": 11,
     "metadata": {},
     "output_type": "execute_result"
    }
   ],
   "source": [
    "df.isna().sum()"
   ]
  },
  {
   "cell_type": "code",
   "execution_count": 12,
   "metadata": {},
   "outputs": [],
   "source": [
    "#df_copy = df.copy()"
   ]
  },
  {
   "cell_type": "code",
   "execution_count": 13,
   "metadata": {},
   "outputs": [],
   "source": [
    "#df_copy = df_copy.drop(df_copy[df_copy.people_vaccinated.isna()].index)"
   ]
  },
  {
   "cell_type": "code",
   "execution_count": 14,
   "metadata": {},
   "outputs": [],
   "source": [
    "#Let's check the hypothesis that these columns distributions are the same.\n",
    "#We will use Mann-Whithey U test for this goal."
   ]
  },
  {
   "cell_type": "code",
   "execution_count": 15,
   "metadata": {},
   "outputs": [
    {
     "data": {
      "text/plain": [
       "MannwhitneyuResult(statistic=56890750.5, pvalue=0.0026695698080454987)"
      ]
     },
     "execution_count": 15,
     "metadata": {},
     "output_type": "execute_result"
    }
   ],
   "source": [
    "scipy.stats.mannwhitneyu(df.total_vaccinations, df.people_vaccinated, alternative='two-sided')"
   ]
  },
  {
   "cell_type": "markdown",
   "metadata": {},
   "source": [
    "As p-value is less than 0.05, which means we reject our hyphotesis.\n",
    "So, we will fill the missing values with 0."
   ]
  },
  {
   "cell_type": "code",
   "execution_count": 16,
   "metadata": {},
   "outputs": [],
   "source": [
    "df.people_vaccinated = df.people_vaccinated.fillna(0)"
   ]
  },
  {
   "cell_type": "code",
   "execution_count": 17,
   "metadata": {},
   "outputs": [
    {
     "data": {
      "text/plain": [
       "country                                   0\n",
       "iso_code                                  0\n",
       "date                                      0\n",
       "total_vaccinations                        0\n",
       "people_vaccinated                         0\n",
       "people_fully_vaccinated                3129\n",
       "daily_vaccinations_raw                 1797\n",
       "daily_vaccinations                      211\n",
       "total_vaccinations_per_hundred            0\n",
       "people_vaccinated_per_hundred           844\n",
       "people_fully_vaccinated_per_hundred    3129\n",
       "daily_vaccinations_per_million          211\n",
       "vaccines                                  0\n",
       "source_name                               0\n",
       "source_website                            0\n",
       "dtype: int64"
      ]
     },
     "execution_count": 17,
     "metadata": {},
     "output_type": "execute_result"
    }
   ],
   "source": [
    "df.isna().sum()"
   ]
  },
  {
   "cell_type": "markdown",
   "metadata": {},
   "source": [
    "Other Strong correlations that we identify from the above heatmap are:\n",
    "\n",
    "2.total_vaccinations_per_hundred vs people_vaccinated_per_hundred\n",
    "3.daily_vaccinations vs  people_vaccinated\n",
    "4.daily_vaccinations_per_million vs people_vaccinated_per_hundred\n",
    "5.people_fully_vaccinated vs  total_vaccinations\n",
    "6.people_fully_vaccinated_per_hundred vs total_vaccinations_per_hundred\n",
    "7.daily_vaccinations_raw vs daily_vaccinations"
   ]
  },
  {
   "cell_type": "code",
   "execution_count": 18,
   "metadata": {},
   "outputs": [
    {
     "data": {
      "text/plain": [
       "MannwhitneyuResult(statistic=57905856.5, pvalue=0.4315482792032509)"
      ]
     },
     "execution_count": 18,
     "metadata": {},
     "output_type": "execute_result"
    }
   ],
   "source": [
    "scipy.stats.mannwhitneyu(df.total_vaccinations_per_hundred, df.people_vaccinated_per_hundred, alternative='two-sided')"
   ]
  },
  {
   "cell_type": "raw",
   "metadata": {},
   "source": [
    "#p-value is much than 0.05, which means we can't reject our hyphotesis.\n",
    "#we will fill the missing values with the difference of these column's mean values."
   ]
  },
  {
   "cell_type": "code",
   "execution_count": 19,
   "metadata": {},
   "outputs": [],
   "source": [
    "#df.people_vaccinated_per_hundred = df.people_vaccinated_per_hundred.fillna(0)\n",
    "diff_per_hundred = df.total_vaccinations_per_hundred.mean() - df.people_vaccinated_per_hundred.mean()\n",
    "df.people_vaccinated_per_hundred = df.people_vaccinated_per_hundred.fillna(df.total_vaccinations_per_hundred - diff_per_hundred)"
   ]
  },
  {
   "cell_type": "code",
   "execution_count": 20,
   "metadata": {},
   "outputs": [
    {
     "data": {
      "text/plain": [
       "MannwhitneyuResult(statistic=29366750.0, pvalue=0.0)"
      ]
     },
     "execution_count": 20,
     "metadata": {},
     "output_type": "execute_result"
    }
   ],
   "source": [
    "scipy.stats.mannwhitneyu(df.daily_vaccinations, df.people_vaccinated, alternative='two-sided')"
   ]
  },
  {
   "cell_type": "code",
   "execution_count": 21,
   "metadata": {},
   "outputs": [],
   "source": [
    "df.daily_vaccinations = df.daily_vaccinations.fillna(0)"
   ]
  },
  {
   "cell_type": "code",
   "execution_count": 22,
   "metadata": {},
   "outputs": [
    {
     "data": {
      "text/plain": [
       "MannwhitneyuResult(statistic=114912595.5, pvalue=0.0)"
      ]
     },
     "execution_count": 22,
     "metadata": {},
     "output_type": "execute_result"
    }
   ],
   "source": [
    "scipy.stats.mannwhitneyu(df.daily_vaccinations_per_million, df.people_vaccinated_per_hundred, alternative='two-sided')"
   ]
  },
  {
   "cell_type": "code",
   "execution_count": 23,
   "metadata": {},
   "outputs": [],
   "source": [
    "df.daily_vaccinations_per_million = df.daily_vaccinations_per_million.fillna(0)"
   ]
  },
  {
   "cell_type": "code",
   "execution_count": 24,
   "metadata": {},
   "outputs": [
    {
     "data": {
      "text/plain": [
       "MannwhitneyuResult(statistic=66328301.0, pvalue=2.169668356818736e-69)"
      ]
     },
     "execution_count": 24,
     "metadata": {},
     "output_type": "execute_result"
    }
   ],
   "source": [
    "scipy.stats.mannwhitneyu(df.people_fully_vaccinated, df.total_vaccinations, alternative='two-sided')"
   ]
  },
  {
   "cell_type": "code",
   "execution_count": 25,
   "metadata": {},
   "outputs": [],
   "source": [
    "df.people_fully_vaccinated = df.people_fully_vaccinated.fillna(0)"
   ]
  },
  {
   "cell_type": "code",
   "execution_count": 26,
   "metadata": {},
   "outputs": [
    {
     "data": {
      "text/plain": [
       "MannwhitneyuResult(statistic=62889277.0, pvalue=5.70888857535949e-24)"
      ]
     },
     "execution_count": 26,
     "metadata": {},
     "output_type": "execute_result"
    }
   ],
   "source": [
    "scipy.stats.mannwhitneyu(df.people_fully_vaccinated_per_hundred, df.total_vaccinations_per_hundred, alternative='two-sided')"
   ]
  },
  {
   "cell_type": "code",
   "execution_count": 27,
   "metadata": {},
   "outputs": [],
   "source": [
    "df.people_fully_vaccinated_per_hundred = df.people_fully_vaccinated_per_hundred.fillna(0)"
   ]
  },
  {
   "cell_type": "code",
   "execution_count": 28,
   "metadata": {},
   "outputs": [
    {
     "data": {
      "text/plain": [
       "MannwhitneyuResult(statistic=70580864.0, pvalue=2.5516766302881847e-159)"
      ]
     },
     "execution_count": 28,
     "metadata": {},
     "output_type": "execute_result"
    }
   ],
   "source": [
    "scipy.stats.mannwhitneyu(df.daily_vaccinations_raw, df.daily_vaccinations, alternative='two-sided')"
   ]
  },
  {
   "cell_type": "code",
   "execution_count": 29,
   "metadata": {},
   "outputs": [],
   "source": [
    "df.daily_vaccinations_raw = df.daily_vaccinations_raw.fillna(0)"
   ]
  },
  {
   "cell_type": "code",
   "execution_count": 30,
   "metadata": {},
   "outputs": [
    {
     "data": {
      "text/plain": [
       "country                                0\n",
       "iso_code                               0\n",
       "date                                   0\n",
       "total_vaccinations                     0\n",
       "people_vaccinated                      0\n",
       "people_fully_vaccinated                0\n",
       "daily_vaccinations_raw                 0\n",
       "daily_vaccinations                     0\n",
       "total_vaccinations_per_hundred         0\n",
       "people_vaccinated_per_hundred          0\n",
       "people_fully_vaccinated_per_hundred    0\n",
       "daily_vaccinations_per_million         0\n",
       "vaccines                               0\n",
       "source_name                            0\n",
       "source_website                         0\n",
       "dtype: int64"
      ]
     },
     "execution_count": 30,
     "metadata": {},
     "output_type": "execute_result"
    }
   ],
   "source": [
    "df.isna().sum()"
   ]
  },
  {
   "cell_type": "code",
   "execution_count": 31,
   "metadata": {},
   "outputs": [
    {
     "data": {
      "text/plain": [
       "(10795, 15)"
      ]
     },
     "execution_count": 31,
     "metadata": {},
     "output_type": "execute_result"
    }
   ],
   "source": [
    "df.shape"
   ]
  },
  {
   "cell_type": "code",
   "execution_count": 32,
   "metadata": {},
   "outputs": [
    {
     "data": {
      "text/plain": [
       "country                                        object\n",
       "iso_code                                       object\n",
       "date                                   datetime64[ns]\n",
       "total_vaccinations                            float64\n",
       "people_vaccinated                             float64\n",
       "people_fully_vaccinated                       float64\n",
       "daily_vaccinations_raw                        float64\n",
       "daily_vaccinations                            float64\n",
       "total_vaccinations_per_hundred                float64\n",
       "people_vaccinated_per_hundred                 float64\n",
       "people_fully_vaccinated_per_hundred           float64\n",
       "daily_vaccinations_per_million                float64\n",
       "vaccines                                       object\n",
       "source_name                                    object\n",
       "source_website                                 object\n",
       "dtype: object"
      ]
     },
     "execution_count": 32,
     "metadata": {},
     "output_type": "execute_result"
    }
   ],
   "source": [
    "df.dtypes"
   ]
  },
  {
   "cell_type": "markdown",
   "metadata": {},
   "source": [
    "## How the vaccinations progress changes over time"
   ]
  },
  {
   "cell_type": "code",
   "execution_count": 230,
   "metadata": {},
   "outputs": [
    {
     "name": "stdout",
     "output_type": "stream",
     "text": [
      "            total_vaccinations\n",
      "date                          \n",
      "2020-12-06        2.000000e+00\n",
      "2020-12-07        4.000000e+00\n",
      "2020-12-08        4.000000e+00\n",
      "2020-12-09        5.000000e+00\n",
      "2020-12-10        6.000000e+00\n",
      "...                        ...\n",
      "2021-05-13        1.394810e+09\n",
      "2021-05-14        1.376011e+09\n",
      "2021-05-15        1.380323e+09\n",
      "2021-05-16        1.465803e+09\n",
      "2021-05-17        1.497409e+09\n",
      "\n",
      "[163 rows x 1 columns]\n"
     ]
    }
   ],
   "source": [
    "t_cols = ['date','total_vaccinations']\n",
    "timeseries = df[t_cols].groupby('date').sum()[4:-1]\n",
    "timeseries = pd.DataFrame(timeseries)\n",
    "print(timeseries)"
   ]
  },
  {
   "cell_type": "code",
   "execution_count": 231,
   "metadata": {},
   "outputs": [
    {
     "data": {
      "text/plain": [
       "(163, 1)"
      ]
     },
     "execution_count": 231,
     "metadata": {},
     "output_type": "execute_result"
    }
   ],
   "source": [
    "#timeseries = timeseries.set_index('date')\n",
    "timeseries.shape"
   ]
  },
  {
   "cell_type": "code",
   "execution_count": 232,
   "metadata": {},
   "outputs": [
    {
     "data": {
      "text/plain": [
       "<matplotlib.axes._subplots.AxesSubplot at 0x1c7c42502b0>"
      ]
     },
     "execution_count": 232,
     "metadata": {},
     "output_type": "execute_result"
    },
    {
     "data": {
      "image/png": "[encoded data removed]",
      "text/plain": [
       "<Figure size 864x360 with 1 Axes>"
      ]
     },
     "metadata": {
      "needs_background": "light"
     },
     "output_type": "display_data"
    }
   ],
   "source": [
    "timeseries['total_vaccinations'].plot(figsize=(12,5))"
   ]
  },
  {
   "cell_type": "markdown",
   "metadata": {},
   "source": [
    "#### What can bee seen, is that despite some days the amount of vaccinated people falls, the vaccination has strong long uptrend.\n"
   ]
  },
  {
   "cell_type": "markdown",
   "metadata": {},
   "source": [
    "# Timeseries transformations to make it stationary"
   ]
  },
  {
   "cell_type": "markdown",
   "metadata": {},
   "source": [
    "#### Testing For Stationarity using Dickey-Fuller Test"
   ]
  },
  {
   "cell_type": "code",
   "execution_count": 233,
   "metadata": {},
   "outputs": [],
   "source": [
    "from statsmodels.tsa.stattools import adfuller"
   ]
  },
  {
   "cell_type": "code",
   "execution_count": 234,
   "metadata": {},
   "outputs": [],
   "source": [
    "#Ho: It is non stationary\n",
    "#H1: It is stationary\n",
    "\n",
    "def adfuller_test(sales):\n",
    "    result=adfuller(sales)\n",
    "    labels = ['ADF Test Statistic','p-value','#Lags Used','Number of Observations Used']\n",
    "    for value,label in zip(result,labels):\n",
    "        print(label+' : '+str(value) )\n",
    "    if result[1] <= 0.05:\n",
    "        print(\"strong evidence against the null hypothesis(Ho), reject the null hypothesis. Data has no unit root and is stationary\")\n",
    "    else:\n",
    "        print(\"Weak evidence against null hypothesis, time series has a unit root, indicating it is non-stationary \")"
   ]
  },
  {
   "cell_type": "code",
   "execution_count": 235,
   "metadata": {},
   "outputs": [
    {
     "name": "stdout",
     "output_type": "stream",
     "text": [
      "ADF Test Statistic : 6.240511150727797\n",
      "p-value : 1.0\n",
      "#Lags Used : 5\n",
      "Number of Observations Used : 157\n",
      "Weak evidence against null hypothesis, time series has a unit root, indicating it is non-stationary \n"
     ]
    }
   ],
   "source": [
    "adfuller_test(timeseries['total_vaccinations'])"
   ]
  },
  {
   "cell_type": "code",
   "execution_count": 236,
   "metadata": {},
   "outputs": [],
   "source": [
    "# create a differenced series\n",
    "# def difference(timeseries, interval=1):\n",
    "# \tdiff = list()\n",
    "# \tfor i in range(interval, len(timeseries)):\n",
    "# \t\tvalue = timeseries[i] - timeseries[i - interval]\n",
    "# \t\tdiff.append(value)\n",
    "# \treturn diff\n",
    "\n",
    "# # invert differenced forecast\n",
    "# def inverse_difference(last_ob, value):\n",
    "# \treturn value + last_ob\n",
    "\n",
    "# # define a dataset with a linear trend\n",
    "# #data = [i+1 for i in range(20)]\n",
    "# #print(data)\n",
    "# # difference the dataset\n",
    "# diff1 = difference(timeseries)\n",
    "# print(diff1)\n",
    "# # invert the difference\n",
    "# inverted = [inverse_difference(timeseries[i], diff1[i]) for i in range(len(diff))]\n",
    "# print(inverted)"
   ]
  },
  {
   "cell_type": "code",
   "execution_count": 237,
   "metadata": {},
   "outputs": [],
   "source": [
    "from pmdarima import auto_arima\n",
    "# Ignore harmless warnings\n",
    "import warnings\n",
    "warnings.filterwarnings(\"ignore\")"
   ]
  },
  {
   "cell_type": "code",
   "execution_count": 238,
   "metadata": {},
   "outputs": [
    {
     "data": {
      "text/html": [
       "<table class=\"simpletable\">\n",
       "<caption>SARIMAX Results</caption>\n",
       "<tr>\n",
       "  <th>Dep. Variable:</th>           <td>y</td>        <th>  No. Observations:  </th>    <td>163</td>   \n",
       "</tr>\n",
       "<tr>\n",
       "  <th>Model:</th>           <td>SARIMAX(3, 2, 4)</td> <th>  Log Likelihood     </th> <td>-2985.778</td>\n",
       "</tr>\n",
       "<tr>\n",
       "  <th>Date:</th>            <td>Fri, 25 Jun 2021</td> <th>  AIC                </th> <td>5987.557</td> \n",
       "</tr>\n",
       "<tr>\n",
       "  <th>Time:</th>                <td>16:25:03</td>     <th>  BIC                </th> <td>6012.208</td> \n",
       "</tr>\n",
       "<tr>\n",
       "  <th>Sample:</th>                  <td>0</td>        <th>  HQIC               </th> <td>5997.566</td> \n",
       "</tr>\n",
       "<tr>\n",
       "  <th></th>                      <td> - 163</td>      <th>                     </th>     <td> </td>    \n",
       "</tr>\n",
       "<tr>\n",
       "  <th>Covariance Type:</th>        <td>opg</td>       <th>                     </th>     <td> </td>    \n",
       "</tr>\n",
       "</table>\n",
       "<table class=\"simpletable\">\n",
       "<tr>\n",
       "     <td></td>       <th>coef</th>     <th>std err</th>      <th>z</th>      <th>P>|z|</th>  <th>[0.025</th>    <th>0.975]</th>  \n",
       "</tr>\n",
       "<tr>\n",
       "  <th>ar.L1</th>  <td>   -1.2107</td> <td>    0.111</td> <td>  -10.897</td> <td> 0.000</td> <td>   -1.428</td> <td>   -0.993</td>\n",
       "</tr>\n",
       "<tr>\n",
       "  <th>ar.L2</th>  <td>   -0.8227</td> <td>    0.104</td> <td>   -7.922</td> <td> 0.000</td> <td>   -1.026</td> <td>   -0.619</td>\n",
       "</tr>\n",
       "<tr>\n",
       "  <th>ar.L3</th>  <td>   -0.1497</td> <td>    0.089</td> <td>   -1.674</td> <td> 0.094</td> <td>   -0.325</td> <td>    0.026</td>\n",
       "</tr>\n",
       "<tr>\n",
       "  <th>ma.L1</th>  <td>   -0.2771</td> <td>    0.122</td> <td>   -2.275</td> <td> 0.023</td> <td>   -0.516</td> <td>   -0.038</td>\n",
       "</tr>\n",
       "<tr>\n",
       "  <th>ma.L2</th>  <td>   -0.7653</td> <td>    0.125</td> <td>   -6.117</td> <td> 0.000</td> <td>   -1.010</td> <td>   -0.520</td>\n",
       "</tr>\n",
       "<tr>\n",
       "  <th>ma.L3</th>  <td>   -0.4200</td> <td>    0.106</td> <td>   -3.976</td> <td> 0.000</td> <td>   -0.627</td> <td>   -0.213</td>\n",
       "</tr>\n",
       "<tr>\n",
       "  <th>ma.L4</th>  <td>    0.5816</td> <td>    0.107</td> <td>    5.433</td> <td> 0.000</td> <td>    0.372</td> <td>    0.791</td>\n",
       "</tr>\n",
       "<tr>\n",
       "  <th>sigma2</th> <td> 8.429e+14</td> <td>  1.6e-16</td> <td> 5.27e+30</td> <td> 0.000</td> <td> 8.43e+14</td> <td> 8.43e+14</td>\n",
       "</tr>\n",
       "</table>\n",
       "<table class=\"simpletable\">\n",
       "<tr>\n",
       "  <th>Ljung-Box (Q):</th>          <td>36.54</td> <th>  Jarque-Bera (JB):  </th> <td>136.86</td>\n",
       "</tr>\n",
       "<tr>\n",
       "  <th>Prob(Q):</th>                <td>0.63</td>  <th>  Prob(JB):          </th>  <td>0.00</td> \n",
       "</tr>\n",
       "<tr>\n",
       "  <th>Heteroskedasticity (H):</th> <td>34.03</td> <th>  Skew:              </th>  <td>-0.20</td>\n",
       "</tr>\n",
       "<tr>\n",
       "  <th>Prob(H) (two-sided):</th>    <td>0.00</td>  <th>  Kurtosis:          </th>  <td>7.50</td> \n",
       "</tr>\n",
       "</table><br/><br/>Warnings:<br/>[1] Covariance matrix calculated using the outer product of gradients (complex-step).<br/>[2] Covariance matrix is singular or near-singular, with condition number 1.18e+46. Standard errors may be unstable."
      ],
      "text/plain": [
       "<class 'statsmodels.iolib.summary.Summary'>\n",
       "\"\"\"\n",
       "                               SARIMAX Results                                \n",
       "==============================================================================\n",
       "Dep. Variable:                      y   No. Observations:                  163\n",
       "Model:               SARIMAX(3, 2, 4)   Log Likelihood               -2985.778\n",
       "Date:                Fri, 25 Jun 2021   AIC                           5987.557\n",
       "Time:                        16:25:03   BIC                           6012.208\n",
       "Sample:                             0   HQIC                          5997.566\n",
       "                                - 163                                         \n",
       "Covariance Type:                  opg                                         \n",
       "==============================================================================\n",
       "                 coef    std err          z      P>|z|      [0.025      0.975]\n",
       "------------------------------------------------------------------------------\n",
       "ar.L1         -1.2107      0.111    -10.897      0.000      -1.428      -0.993\n",
       "ar.L2         -0.8227      0.104     -7.922      0.000      -1.026      -0.619\n",
       "ar.L3         -0.1497      0.089     -1.674      0.094      -0.325       0.026\n",
       "ma.L1         -0.2771      0.122     -2.275      0.023      -0.516      -0.038\n",
       "ma.L2         -0.7653      0.125     -6.117      0.000      -1.010      -0.520\n",
       "ma.L3         -0.4200      0.106     -3.976      0.000      -0.627      -0.213\n",
       "ma.L4          0.5816      0.107      5.433      0.000       0.372       0.791\n",
       "sigma2      8.429e+14    1.6e-16   5.27e+30      0.000    8.43e+14    8.43e+14\n",
       "===================================================================================\n",
       "Ljung-Box (Q):                       36.54   Jarque-Bera (JB):               136.86\n",
       "Prob(Q):                              0.63   Prob(JB):                         0.00\n",
       "Heteroskedasticity (H):              34.03   Skew:                            -0.20\n",
       "Prob(H) (two-sided):                  0.00   Kurtosis:                         7.50\n",
       "===================================================================================\n",
       "\n",
       "Warnings:\n",
       "[1] Covariance matrix calculated using the outer product of gradients (complex-step).\n",
       "[2] Covariance matrix is singular or near-singular, with condition number 1.18e+46. Standard errors may be unstable.\n",
       "\"\"\""
      ]
     },
     "execution_count": 238,
     "metadata": {},
     "output_type": "execute_result"
    }
   ],
   "source": [
    "stepwise_fit = auto_arima(timeseries['total_vaccinations'], \n",
    "                          suppress_warnings=True)           \n",
    "\n",
    "stepwise_fit.summary()"
   ]
  },
  {
   "cell_type": "code",
   "execution_count": 239,
   "metadata": {},
   "outputs": [],
   "source": [
    "from statsmodels.tsa.arima_model import ARIMA"
   ]
  },
  {
   "cell_type": "code",
   "execution_count": 240,
   "metadata": {},
   "outputs": [
    {
     "name": "stdout",
     "output_type": "stream",
     "text": [
      "(163, 1)\n",
      "(163, 1) (163, 1)\n"
     ]
    }
   ],
   "source": [
    "print(timeseries.shape)\n",
    "train=timeseries.iloc[:]\n",
    "#test=timeseries.iloc[60:]\n",
    "print(train.shape,timeseries.shape)\n",
    "#print(test.iloc[0],test.iloc[-1])"
   ]
  },
  {
   "cell_type": "code",
   "execution_count": 241,
   "metadata": {},
   "outputs": [
    {
     "data": {
      "text/html": [
       "<table class=\"simpletable\">\n",
       "<caption>ARIMA Model Results</caption>\n",
       "<tr>\n",
       "  <th>Dep. Variable:</th> <td>D2.total_vaccinations</td> <th>  No. Observations:  </th>      <td>161</td>    \n",
       "</tr>\n",
       "<tr>\n",
       "  <th>Model:</th>            <td>ARIMA(3, 2, 4)</td>     <th>  Log Likelihood     </th>   <td>-2983.819</td> \n",
       "</tr>\n",
       "<tr>\n",
       "  <th>Method:</th>               <td>css-mle</td>        <th>  S.D. of innovations</th> <td>26582122.251</td>\n",
       "</tr>\n",
       "<tr>\n",
       "  <th>Date:</th>            <td>Fri, 25 Jun 2021</td>    <th>  AIC                </th>   <td>5985.639</td>  \n",
       "</tr>\n",
       "<tr>\n",
       "  <th>Time:</th>                <td>16:25:04</td>        <th>  BIC                </th>   <td>6013.371</td>  \n",
       "</tr>\n",
       "<tr>\n",
       "  <th>Sample:</th>             <td>12-08-2020</td>       <th>  HQIC               </th>   <td>5996.899</td>  \n",
       "</tr>\n",
       "<tr>\n",
       "  <th></th>                   <td>- 05-17-2021</td>      <th>                     </th>       <td> </td>     \n",
       "</tr>\n",
       "</table>\n",
       "<table class=\"simpletable\">\n",
       "<tr>\n",
       "               <td></td>                  <th>coef</th>     <th>std err</th>      <th>z</th>      <th>P>|z|</th>  <th>[0.025</th>    <th>0.975]</th>  \n",
       "</tr>\n",
       "<tr>\n",
       "  <th>const</th>                       <td> 1.963e+05</td> <td>      nan</td> <td>      nan</td> <td>   nan</td> <td>      nan</td> <td>      nan</td>\n",
       "</tr>\n",
       "<tr>\n",
       "  <th>ar.L1.D2.total_vaccinations</th> <td>   -1.2332</td> <td>    0.110</td> <td>  -11.235</td> <td> 0.000</td> <td>   -1.448</td> <td>   -1.018</td>\n",
       "</tr>\n",
       "<tr>\n",
       "  <th>ar.L2.D2.total_vaccinations</th> <td>   -0.8501</td> <td>    0.128</td> <td>   -6.667</td> <td> 0.000</td> <td>   -1.100</td> <td>   -0.600</td>\n",
       "</tr>\n",
       "<tr>\n",
       "  <th>ar.L3.D2.total_vaccinations</th> <td>   -0.1693</td> <td>    0.102</td> <td>   -1.657</td> <td> 0.098</td> <td>   -0.370</td> <td>    0.031</td>\n",
       "</tr>\n",
       "<tr>\n",
       "  <th>ma.L1.D2.total_vaccinations</th> <td>   -0.2820</td> <td>    0.100</td> <td>   -2.829</td> <td> 0.005</td> <td>   -0.477</td> <td>   -0.087</td>\n",
       "</tr>\n",
       "<tr>\n",
       "  <th>ma.L2.D2.total_vaccinations</th> <td>   -0.7844</td> <td>    0.099</td> <td>   -7.956</td> <td> 0.000</td> <td>   -0.978</td> <td>   -0.591</td>\n",
       "</tr>\n",
       "<tr>\n",
       "  <th>ma.L3.D2.total_vaccinations</th> <td>   -0.4397</td> <td>    0.097</td> <td>   -4.541</td> <td> 0.000</td> <td>   -0.630</td> <td>   -0.250</td>\n",
       "</tr>\n",
       "<tr>\n",
       "  <th>ma.L4.D2.total_vaccinations</th> <td>    0.5646</td> <td>    0.086</td> <td>    6.560</td> <td> 0.000</td> <td>    0.396</td> <td>    0.733</td>\n",
       "</tr>\n",
       "</table>\n",
       "<table class=\"simpletable\">\n",
       "<caption>Roots</caption>\n",
       "<tr>\n",
       "    <td></td>   <th>            Real</th>  <th>         Imaginary</th> <th>         Modulus</th>  <th>        Frequency</th>\n",
       "</tr>\n",
       "<tr>\n",
       "  <th>AR.1</th> <td>          -0.8182</td> <td>          -1.0370j</td> <td>           1.3210</td> <td>          -0.3563</td>\n",
       "</tr>\n",
       "<tr>\n",
       "  <th>AR.2</th> <td>          -0.8182</td> <td>          +1.0370j</td> <td>           1.3210</td> <td>           0.3563</td>\n",
       "</tr>\n",
       "<tr>\n",
       "  <th>AR.3</th> <td>          -3.3854</td> <td>          -0.0000j</td> <td>           3.3854</td> <td>          -0.5000</td>\n",
       "</tr>\n",
       "<tr>\n",
       "  <th>MA.1</th> <td>          -0.8319</td> <td>          -0.7164j</td> <td>           1.0979</td> <td>          -0.3868</td>\n",
       "</tr>\n",
       "<tr>\n",
       "  <th>MA.2</th> <td>          -0.8319</td> <td>          +0.7164j</td> <td>           1.0979</td> <td>           0.3868</td>\n",
       "</tr>\n",
       "<tr>\n",
       "  <th>MA.3</th> <td>           1.0723</td> <td>          -0.0000j</td> <td>           1.0723</td> <td>          -0.0000</td>\n",
       "</tr>\n",
       "<tr>\n",
       "  <th>MA.4</th> <td>           1.3704</td> <td>          -0.0000j</td> <td>           1.3704</td> <td>          -0.0000</td>\n",
       "</tr>\n",
       "</table>"
      ],
      "text/plain": [
       "<class 'statsmodels.iolib.summary.Summary'>\n",
       "\"\"\"\n",
       "                               ARIMA Model Results                               \n",
       "=================================================================================\n",
       "Dep. Variable:     D2.total_vaccinations   No. Observations:                  161\n",
       "Model:                    ARIMA(3, 2, 4)   Log Likelihood               -2983.819\n",
       "Method:                          css-mle   S.D. of innovations       26582122.251\n",
       "Date:                   Fri, 25 Jun 2021   AIC                           5985.639\n",
       "Time:                           16:25:04   BIC                           6013.371\n",
       "Sample:                       12-08-2020   HQIC                          5996.899\n",
       "                            - 05-17-2021                                         \n",
       "===============================================================================================\n",
       "                                  coef    std err          z      P>|z|      [0.025      0.975]\n",
       "-----------------------------------------------------------------------------------------------\n",
       "const                        1.963e+05        nan        nan        nan         nan         nan\n",
       "ar.L1.D2.total_vaccinations    -1.2332      0.110    -11.235      0.000      -1.448      -1.018\n",
       "ar.L2.D2.total_vaccinations    -0.8501      0.128     -6.667      0.000      -1.100      -0.600\n",
       "ar.L3.D2.total_vaccinations    -0.1693      0.102     -1.657      0.098      -0.370       0.031\n",
       "ma.L1.D2.total_vaccinations    -0.2820      0.100     -2.829      0.005      -0.477      -0.087\n",
       "ma.L2.D2.total_vaccinations    -0.7844      0.099     -7.956      0.000      -0.978      -0.591\n",
       "ma.L3.D2.total_vaccinations    -0.4397      0.097     -4.541      0.000      -0.630      -0.250\n",
       "ma.L4.D2.total_vaccinations     0.5646      0.086      6.560      0.000       0.396       0.733\n",
       "                                    Roots                                    \n",
       "=============================================================================\n",
       "                  Real          Imaginary           Modulus         Frequency\n",
       "-----------------------------------------------------------------------------\n",
       "AR.1           -0.8182           -1.0370j            1.3210           -0.3563\n",
       "AR.2           -0.8182           +1.0370j            1.3210            0.3563\n",
       "AR.3           -3.3854           -0.0000j            3.3854           -0.5000\n",
       "MA.1           -0.8319           -0.7164j            1.0979           -0.3868\n",
       "MA.2           -0.8319           +0.7164j            1.0979            0.3868\n",
       "MA.3            1.0723           -0.0000j            1.0723           -0.0000\n",
       "MA.4            1.3704           -0.0000j            1.3704           -0.0000\n",
       "-----------------------------------------------------------------------------\n",
       "\"\"\""
      ]
     },
     "execution_count": 241,
     "metadata": {},
     "output_type": "execute_result"
    }
   ],
   "source": [
    "from statsmodels.tsa.arima_model import ARIMA\n",
    "model=ARIMA(train['total_vaccinations'],order=(3, 2, 4))\n",
    "model=model.fit()\n",
    "model.summary()"
   ]
  },
  {
   "cell_type": "code",
   "execution_count": 242,
   "metadata": {},
   "outputs": [
    {
     "data": {
      "text/plain": [
       "<matplotlib.axes._subplots.AxesSubplot at 0x1c7c2f341f0>"
      ]
     },
     "execution_count": 242,
     "metadata": {},
     "output_type": "execute_result"
    },
    {
     "data": {
      "image/png": "[encoded data removed]",
      "text/plain": [
       "<Figure size 864x360 with 1 Axes>"
      ]
     },
     "metadata": {
      "needs_background": "light"
     },
     "output_type": "display_data"
    }
   ],
   "source": [
    "start=2\n",
    "end=len(timeseries)-1\n",
    "#if the predicted values dont have date values as index, you will have to uncomment the following two commented lines to plot a graph\n",
    "#index_future_dates=pd.date_range(start='2018-12-01',end='2018-12-30')\n",
    "pred=model.predict(start=start,end=end,typ='levels').rename('ARIMA predictions')\n",
    "#pred.index=index_future_dates\n",
    "pred.plot(legend=True)\n",
    "timeseries['total_vaccinations'].plot(figsize=(12,5),legend=True)"
   ]
  },
  {
   "cell_type": "code",
   "execution_count": 243,
   "metadata": {},
   "outputs": [
    {
     "data": {
      "text/plain": [
       "396243661.71165645"
      ]
     },
     "execution_count": 243,
     "metadata": {},
     "output_type": "execute_result"
    }
   ],
   "source": [
    "train['total_vaccinations'].mean()"
   ]
  },
  {
   "cell_type": "code",
   "execution_count": 244,
   "metadata": {},
   "outputs": [
    {
     "data": {
      "text/html": [
       "<div>\n",
       "<style scoped>\n",
       "    .dataframe tbody tr th:only-of-type {\n",
       "        vertical-align: middle;\n",
       "    }\n",
       "\n",
       "    .dataframe tbody tr th {\n",
       "        vertical-align: top;\n",
       "    }\n",
       "\n",
       "    .dataframe thead th {\n",
       "        text-align: right;\n",
       "    }\n",
       "</style>\n",
       "<table border=\"1\" class=\"dataframe\">\n",
       "  <thead>\n",
       "    <tr style=\"text-align: right;\">\n",
       "      <th></th>\n",
       "      <th>total_vaccinations</th>\n",
       "    </tr>\n",
       "    <tr>\n",
       "      <th>date</th>\n",
       "      <th></th>\n",
       "    </tr>\n",
       "  </thead>\n",
       "  <tbody>\n",
       "    <tr>\n",
       "      <th>2021-05-13</th>\n",
       "      <td>1.394810e+09</td>\n",
       "    </tr>\n",
       "    <tr>\n",
       "      <th>2021-05-14</th>\n",
       "      <td>1.376011e+09</td>\n",
       "    </tr>\n",
       "    <tr>\n",
       "      <th>2021-05-15</th>\n",
       "      <td>1.380323e+09</td>\n",
       "    </tr>\n",
       "    <tr>\n",
       "      <th>2021-05-16</th>\n",
       "      <td>1.465803e+09</td>\n",
       "    </tr>\n",
       "    <tr>\n",
       "      <th>2021-05-17</th>\n",
       "      <td>1.497409e+09</td>\n",
       "    </tr>\n",
       "  </tbody>\n",
       "</table>\n",
       "</div>"
      ],
      "text/plain": [
       "            total_vaccinations\n",
       "date                          \n",
       "2021-05-13        1.394810e+09\n",
       "2021-05-14        1.376011e+09\n",
       "2021-05-15        1.380323e+09\n",
       "2021-05-16        1.465803e+09\n",
       "2021-05-17        1.497409e+09"
      ]
     },
     "execution_count": 244,
     "metadata": {},
     "output_type": "execute_result"
    }
   ],
   "source": [
    "model2=ARIMA(timeseries['total_vaccinations'],order=(3,2,4))\n",
    "model2=model2.fit()\n",
    "timeseries.tail()"
   ]
  },
  {
   "cell_type": "code",
   "execution_count": 245,
   "metadata": {},
   "outputs": [
    {
     "name": "stdout",
     "output_type": "stream",
     "text": [
      "DatetimeIndex(['2021-05-17', '2021-05-18', '2021-05-19', '2021-05-20',\n",
      "               '2021-05-21', '2021-05-22', '2021-05-23', '2021-05-24',\n",
      "               '2021-05-25', '2021-05-26', '2021-05-27', '2021-05-28',\n",
      "               '2021-05-29', '2021-05-30', '2021-05-31', '2021-06-01',\n",
      "               '2021-06-02', '2021-06-03', '2021-06-04', '2021-06-05',\n",
      "               '2021-06-06', '2021-06-07', '2021-06-08', '2021-06-09',\n",
      "               '2021-06-10', '2021-06-11', '2021-06-12', '2021-06-13',\n",
      "               '2021-06-14', '2021-06-15', '2021-06-16'],\n",
      "              dtype='datetime64[ns]', freq='D')\n",
      "2021-05-17    1.484286e+09\n",
      "2021-05-18    1.509383e+09\n",
      "2021-05-19    1.550509e+09\n",
      "2021-05-20    1.558108e+09\n",
      "2021-05-21    1.587595e+09\n",
      "2021-05-22    1.616516e+09\n",
      "2021-05-23    1.633842e+09\n",
      "2021-05-24    1.662882e+09\n",
      "2021-05-25    1.688068e+09\n",
      "2021-05-26    1.710650e+09\n",
      "2021-05-27    1.738375e+09\n",
      "2021-05-28    1.763261e+09\n",
      "2021-05-29    1.788355e+09\n",
      "2021-05-30    1.815374e+09\n",
      "2021-05-31    1.840962e+09\n",
      "2021-06-01    1.867282e+09\n",
      "2021-06-02    1.894229e+09\n",
      "2021-06-03    1.920661e+09\n",
      "2021-06-04    1.947709e+09\n",
      "2021-06-05    1.974967e+09\n",
      "2021-06-06    2.002168e+09\n",
      "2021-06-07    2.029795e+09\n",
      "2021-06-08    2.057549e+09\n",
      "2021-06-09    2.085432e+09\n",
      "2021-06-10    2.113614e+09\n",
      "2021-06-11    2.141935e+09\n",
      "2021-06-12    2.170447e+09\n",
      "2021-06-13    2.199193e+09\n",
      "2021-06-14    2.228103e+09\n",
      "2021-06-15    2.257219e+09\n",
      "2021-06-16    2.286540e+09\n",
      "Freq: D, Name: ARIMA Predictions, dtype: float64\n"
     ]
    }
   ],
   "source": [
    "index_future_dates=pd.date_range(start='2021-05-17',end='2021-06-16')\n",
    "print(index_future_dates)\n",
    "pred=model2.predict(start=len(timeseries),end=len(timeseries)+30,typ='levels').rename('ARIMA Predictions')\n",
    "#print(comp_pred)\n",
    "pred.index=index_future_dates\n",
    "print(pred)"
   ]
  },
  {
   "cell_type": "code",
   "execution_count": 246,
   "metadata": {},
   "outputs": [
    {
     "data": {
      "text/plain": [
       "<matplotlib.axes._subplots.AxesSubplot at 0x1c7bf7060a0>"
      ]
     },
     "execution_count": 246,
     "metadata": {},
     "output_type": "execute_result"
    },
    {
     "data": {
      "image/png": "[encoded data removed]",
      "text/plain": [
       "<Figure size 432x288 with 1 Axes>"
      ]
     },
     "metadata": {
      "needs_background": "light"
     },
     "output_type": "display_data"
    }
   ],
   "source": [
    "pred.plot(legend=True)"
   ]
  },
  {
   "cell_type": "code",
   "execution_count": 247,
   "metadata": {},
   "outputs": [
    {
     "data": {
      "text/plain": [
       "<matplotlib.axes._subplots.AxesSubplot at 0x1c7c4509fa0>"
      ]
     },
     "execution_count": 247,
     "metadata": {},
     "output_type": "execute_result"
    },
    {
     "data": {
      "image/png": "[encoded data removed]",
      "text/plain": [
       "<Figure size 864x360 with 1 Axes>"
      ]
     },
     "metadata": {
      "needs_background": "light"
     },
     "output_type": "display_data"
    }
   ],
   "source": [
    "pred.plot(figsize=(12,5),legend=True)\n",
    "timeseries['total_vaccinations'].plot(figsize=(12,5),legend=True)"
   ]
  }
 ],
 "metadata": {
  "kernelspec": {
   "display_name": "Python 3",
   "language": "python",
   "name": "python3"
  },
  "language_info": {
   "codemirror_mode": {
    "name": "ipython",
    "version": 3
   },
   "file_extension": ".py",
   "mimetype": "text/x-python",
   "name": "python",
   "nbconvert_exporter": "python",
   "pygments_lexer": "ipython3",
   "version": "3.8.3"
  }
 },
 "nbformat": 4,
 "nbformat_minor": 4
}
