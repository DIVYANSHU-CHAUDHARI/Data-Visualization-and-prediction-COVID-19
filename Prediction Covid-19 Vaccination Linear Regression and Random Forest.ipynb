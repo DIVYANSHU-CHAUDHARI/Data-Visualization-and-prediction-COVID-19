{
 "cells": [
  {
   "cell_type": "code",
   "execution_count": 1,
   "metadata": {},
   "outputs": [],
   "source": [
    "import pandas as pd\n",
    "import numpy as np\n",
    "import matplotlib.pyplot as plt, seaborn as sns\n",
    "import scipy\n",
    "import warnings\n",
    "#import plotly.express as px\n",
    "#import statsmodels.api as sm\n",
    "#from itertools import product\n",
    "#from tqdm import tqdm\n",
    "warnings.filterwarnings('ignore')\n",
    "date_cols = ['date']"
   ]
  },
  {
   "cell_type": "code",
   "execution_count": 2,
   "metadata": {},
   "outputs": [],
   "source": [
    "df = pd.read_csv(r'C:\\Users\\Divyanshu Chaudhari\\Downloads\\country_vaccinations_new.csv',parse_dates = date_cols)"
   ]
  },
  {
   "cell_type": "code",
   "execution_count": 3,
   "metadata": {},
   "outputs": [
    {
     "data": {
      "text/html": [
       "<div>\n",
       "<style scoped>\n",
       "    .dataframe tbody tr th:only-of-type {\n",
       "        vertical-align: middle;\n",
       "    }\n",
       "\n",
       "    .dataframe tbody tr th {\n",
       "        vertical-align: top;\n",
       "    }\n",
       "\n",
       "    .dataframe thead th {\n",
       "        text-align: right;\n",
       "    }\n",
       "</style>\n",
       "<table border=\"1\" class=\"dataframe\">\n",
       "  <thead>\n",
       "    <tr style=\"text-align: right;\">\n",
       "      <th></th>\n",
       "      <th>country</th>\n",
       "      <th>iso_code</th>\n",
       "      <th>date</th>\n",
       "      <th>total_vaccinations</th>\n",
       "      <th>people_vaccinated</th>\n",
       "      <th>people_fully_vaccinated</th>\n",
       "      <th>daily_vaccinations_raw</th>\n",
       "      <th>daily_vaccinations</th>\n",
       "      <th>total_vaccinations_per_hundred</th>\n",
       "      <th>people_vaccinated_per_hundred</th>\n",
       "      <th>people_fully_vaccinated_per_hundred</th>\n",
       "      <th>daily_vaccinations_per_million</th>\n",
       "      <th>vaccines</th>\n",
       "      <th>source_name</th>\n",
       "      <th>source_website</th>\n",
       "    </tr>\n",
       "  </thead>\n",
       "  <tbody>\n",
       "    <tr>\n",
       "      <th>18759</th>\n",
       "      <td>Zimbabwe</td>\n",
       "      <td>ZWE</td>\n",
       "      <td>2021-05-14</td>\n",
       "      <td>775241.0</td>\n",
       "      <td>571460.0</td>\n",
       "      <td>203781.0</td>\n",
       "      <td>23221.0</td>\n",
       "      <td>19211.0</td>\n",
       "      <td>5.22</td>\n",
       "      <td>3.84</td>\n",
       "      <td>1.37</td>\n",
       "      <td>1293.0</td>\n",
       "      <td>Sinopharm/Beijing</td>\n",
       "      <td>Ministry of Health</td>\n",
       "      <td>https://twitter.com/MoHCCZim/status/1394757158...</td>\n",
       "    </tr>\n",
       "    <tr>\n",
       "      <th>18760</th>\n",
       "      <td>Zimbabwe</td>\n",
       "      <td>ZWE</td>\n",
       "      <td>2021-05-15</td>\n",
       "      <td>793311.0</td>\n",
       "      <td>579769.0</td>\n",
       "      <td>213542.0</td>\n",
       "      <td>18070.0</td>\n",
       "      <td>19353.0</td>\n",
       "      <td>5.34</td>\n",
       "      <td>3.90</td>\n",
       "      <td>1.44</td>\n",
       "      <td>1302.0</td>\n",
       "      <td>Sinopharm/Beijing</td>\n",
       "      <td>Ministry of Health</td>\n",
       "      <td>https://twitter.com/MoHCCZim/status/1394757158...</td>\n",
       "    </tr>\n",
       "    <tr>\n",
       "      <th>18761</th>\n",
       "      <td>Zimbabwe</td>\n",
       "      <td>ZWE</td>\n",
       "      <td>2021-05-16</td>\n",
       "      <td>796947.0</td>\n",
       "      <td>581615.0</td>\n",
       "      <td>215332.0</td>\n",
       "      <td>3636.0</td>\n",
       "      <td>16101.0</td>\n",
       "      <td>5.36</td>\n",
       "      <td>3.91</td>\n",
       "      <td>1.45</td>\n",
       "      <td>1083.0</td>\n",
       "      <td>Sinopharm/Beijing</td>\n",
       "      <td>Ministry of Health</td>\n",
       "      <td>https://twitter.com/MoHCCZim/status/1394757158...</td>\n",
       "    </tr>\n",
       "    <tr>\n",
       "      <th>18762</th>\n",
       "      <td>Zimbabwe</td>\n",
       "      <td>ZWE</td>\n",
       "      <td>2021-05-17</td>\n",
       "      <td>814258.0</td>\n",
       "      <td>591808.0</td>\n",
       "      <td>222450.0</td>\n",
       "      <td>17311.0</td>\n",
       "      <td>17658.0</td>\n",
       "      <td>5.48</td>\n",
       "      <td>3.98</td>\n",
       "      <td>1.50</td>\n",
       "      <td>1188.0</td>\n",
       "      <td>Sinopharm/Beijing</td>\n",
       "      <td>Ministry of Health</td>\n",
       "      <td>https://twitter.com/MoHCCZim/status/1394757158...</td>\n",
       "    </tr>\n",
       "    <tr>\n",
       "      <th>18763</th>\n",
       "      <td>Zimbabwe</td>\n",
       "      <td>ZWE</td>\n",
       "      <td>2021-05-18</td>\n",
       "      <td>831954.0</td>\n",
       "      <td>600579.0</td>\n",
       "      <td>231375.0</td>\n",
       "      <td>17696.0</td>\n",
       "      <td>17455.0</td>\n",
       "      <td>5.60</td>\n",
       "      <td>4.04</td>\n",
       "      <td>1.56</td>\n",
       "      <td>1174.0</td>\n",
       "      <td>Sinopharm/Beijing</td>\n",
       "      <td>Ministry of Health</td>\n",
       "      <td>https://twitter.com/MoHCCZim/status/1394757158...</td>\n",
       "    </tr>\n",
       "  </tbody>\n",
       "</table>\n",
       "</div>"
      ],
      "text/plain": [
       "        country iso_code       date  total_vaccinations  people_vaccinated  \\\n",
       "18759  Zimbabwe      ZWE 2021-05-14            775241.0           571460.0   \n",
       "18760  Zimbabwe      ZWE 2021-05-15            793311.0           579769.0   \n",
       "18761  Zimbabwe      ZWE 2021-05-16            796947.0           581615.0   \n",
       "18762  Zimbabwe      ZWE 2021-05-17            814258.0           591808.0   \n",
       "18763  Zimbabwe      ZWE 2021-05-18            831954.0           600579.0   \n",
       "\n",
       "       people_fully_vaccinated  daily_vaccinations_raw  daily_vaccinations  \\\n",
       "18759                 203781.0                 23221.0             19211.0   \n",
       "18760                 213542.0                 18070.0             19353.0   \n",
       "18761                 215332.0                  3636.0             16101.0   \n",
       "18762                 222450.0                 17311.0             17658.0   \n",
       "18763                 231375.0                 17696.0             17455.0   \n",
       "\n",
       "       total_vaccinations_per_hundred  people_vaccinated_per_hundred  \\\n",
       "18759                            5.22                           3.84   \n",
       "18760                            5.34                           3.90   \n",
       "18761                            5.36                           3.91   \n",
       "18762                            5.48                           3.98   \n",
       "18763                            5.60                           4.04   \n",
       "\n",
       "       people_fully_vaccinated_per_hundred  daily_vaccinations_per_million  \\\n",
       "18759                                 1.37                          1293.0   \n",
       "18760                                 1.44                          1302.0   \n",
       "18761                                 1.45                          1083.0   \n",
       "18762                                 1.50                          1188.0   \n",
       "18763                                 1.56                          1174.0   \n",
       "\n",
       "                vaccines         source_name  \\\n",
       "18759  Sinopharm/Beijing  Ministry of Health   \n",
       "18760  Sinopharm/Beijing  Ministry of Health   \n",
       "18761  Sinopharm/Beijing  Ministry of Health   \n",
       "18762  Sinopharm/Beijing  Ministry of Health   \n",
       "18763  Sinopharm/Beijing  Ministry of Health   \n",
       "\n",
       "                                          source_website  \n",
       "18759  https://twitter.com/MoHCCZim/status/1394757158...  \n",
       "18760  https://twitter.com/MoHCCZim/status/1394757158...  \n",
       "18761  https://twitter.com/MoHCCZim/status/1394757158...  \n",
       "18762  https://twitter.com/MoHCCZim/status/1394757158...  \n",
       "18763  https://twitter.com/MoHCCZim/status/1394757158...  "
      ]
     },
     "execution_count": 3,
     "metadata": {},
     "output_type": "execute_result"
    }
   ],
   "source": [
    "df.tail()"
   ]
  },
  {
   "cell_type": "code",
   "execution_count": 4,
   "metadata": {},
   "outputs": [
    {
     "data": {
      "text/html": [
       "<div>\n",
       "<style scoped>\n",
       "    .dataframe tbody tr th:only-of-type {\n",
       "        vertical-align: middle;\n",
       "    }\n",
       "\n",
       "    .dataframe tbody tr th {\n",
       "        vertical-align: top;\n",
       "    }\n",
       "\n",
       "    .dataframe thead th {\n",
       "        text-align: right;\n",
       "    }\n",
       "</style>\n",
       "<table border=\"1\" class=\"dataframe\">\n",
       "  <thead>\n",
       "    <tr style=\"text-align: right;\">\n",
       "      <th></th>\n",
       "      <th>country</th>\n",
       "      <th>iso_code</th>\n",
       "      <th>date</th>\n",
       "      <th>total_vaccinations</th>\n",
       "      <th>people_vaccinated</th>\n",
       "      <th>people_fully_vaccinated</th>\n",
       "      <th>daily_vaccinations_raw</th>\n",
       "      <th>daily_vaccinations</th>\n",
       "      <th>total_vaccinations_per_hundred</th>\n",
       "      <th>people_vaccinated_per_hundred</th>\n",
       "      <th>people_fully_vaccinated_per_hundred</th>\n",
       "      <th>daily_vaccinations_per_million</th>\n",
       "      <th>vaccines</th>\n",
       "      <th>source_name</th>\n",
       "      <th>source_website</th>\n",
       "    </tr>\n",
       "  </thead>\n",
       "  <tbody>\n",
       "    <tr>\n",
       "      <th>0</th>\n",
       "      <td>Afghanistan</td>\n",
       "      <td>AFG</td>\n",
       "      <td>2021-02-22</td>\n",
       "      <td>0.0</td>\n",
       "      <td>0.0</td>\n",
       "      <td>NaN</td>\n",
       "      <td>NaN</td>\n",
       "      <td>NaN</td>\n",
       "      <td>0.0</td>\n",
       "      <td>0.0</td>\n",
       "      <td>NaN</td>\n",
       "      <td>NaN</td>\n",
       "      <td>Oxford/AstraZeneca, Pfizer/BioNTech, Sinopharm...</td>\n",
       "      <td>World Health Organization</td>\n",
       "      <td>https://covid19.who.int/</td>\n",
       "    </tr>\n",
       "    <tr>\n",
       "      <th>1</th>\n",
       "      <td>Afghanistan</td>\n",
       "      <td>AFG</td>\n",
       "      <td>2021-02-23</td>\n",
       "      <td>NaN</td>\n",
       "      <td>NaN</td>\n",
       "      <td>NaN</td>\n",
       "      <td>NaN</td>\n",
       "      <td>1367.0</td>\n",
       "      <td>NaN</td>\n",
       "      <td>NaN</td>\n",
       "      <td>NaN</td>\n",
       "      <td>35.0</td>\n",
       "      <td>Oxford/AstraZeneca, Pfizer/BioNTech, Sinopharm...</td>\n",
       "      <td>World Health Organization</td>\n",
       "      <td>https://covid19.who.int/</td>\n",
       "    </tr>\n",
       "    <tr>\n",
       "      <th>2</th>\n",
       "      <td>Afghanistan</td>\n",
       "      <td>AFG</td>\n",
       "      <td>2021-02-24</td>\n",
       "      <td>NaN</td>\n",
       "      <td>NaN</td>\n",
       "      <td>NaN</td>\n",
       "      <td>NaN</td>\n",
       "      <td>1367.0</td>\n",
       "      <td>NaN</td>\n",
       "      <td>NaN</td>\n",
       "      <td>NaN</td>\n",
       "      <td>35.0</td>\n",
       "      <td>Oxford/AstraZeneca, Pfizer/BioNTech, Sinopharm...</td>\n",
       "      <td>World Health Organization</td>\n",
       "      <td>https://covid19.who.int/</td>\n",
       "    </tr>\n",
       "    <tr>\n",
       "      <th>3</th>\n",
       "      <td>Afghanistan</td>\n",
       "      <td>AFG</td>\n",
       "      <td>2021-02-25</td>\n",
       "      <td>NaN</td>\n",
       "      <td>NaN</td>\n",
       "      <td>NaN</td>\n",
       "      <td>NaN</td>\n",
       "      <td>1367.0</td>\n",
       "      <td>NaN</td>\n",
       "      <td>NaN</td>\n",
       "      <td>NaN</td>\n",
       "      <td>35.0</td>\n",
       "      <td>Oxford/AstraZeneca, Pfizer/BioNTech, Sinopharm...</td>\n",
       "      <td>World Health Organization</td>\n",
       "      <td>https://covid19.who.int/</td>\n",
       "    </tr>\n",
       "    <tr>\n",
       "      <th>4</th>\n",
       "      <td>Afghanistan</td>\n",
       "      <td>AFG</td>\n",
       "      <td>2021-02-26</td>\n",
       "      <td>NaN</td>\n",
       "      <td>NaN</td>\n",
       "      <td>NaN</td>\n",
       "      <td>NaN</td>\n",
       "      <td>1367.0</td>\n",
       "      <td>NaN</td>\n",
       "      <td>NaN</td>\n",
       "      <td>NaN</td>\n",
       "      <td>35.0</td>\n",
       "      <td>Oxford/AstraZeneca, Pfizer/BioNTech, Sinopharm...</td>\n",
       "      <td>World Health Organization</td>\n",
       "      <td>https://covid19.who.int/</td>\n",
       "    </tr>\n",
       "  </tbody>\n",
       "</table>\n",
       "</div>"
      ],
      "text/plain": [
       "       country iso_code       date  total_vaccinations  people_vaccinated  \\\n",
       "0  Afghanistan      AFG 2021-02-22                 0.0                0.0   \n",
       "1  Afghanistan      AFG 2021-02-23                 NaN                NaN   \n",
       "2  Afghanistan      AFG 2021-02-24                 NaN                NaN   \n",
       "3  Afghanistan      AFG 2021-02-25                 NaN                NaN   \n",
       "4  Afghanistan      AFG 2021-02-26                 NaN                NaN   \n",
       "\n",
       "   people_fully_vaccinated  daily_vaccinations_raw  daily_vaccinations  \\\n",
       "0                      NaN                     NaN                 NaN   \n",
       "1                      NaN                     NaN              1367.0   \n",
       "2                      NaN                     NaN              1367.0   \n",
       "3                      NaN                     NaN              1367.0   \n",
       "4                      NaN                     NaN              1367.0   \n",
       "\n",
       "   total_vaccinations_per_hundred  people_vaccinated_per_hundred  \\\n",
       "0                             0.0                            0.0   \n",
       "1                             NaN                            NaN   \n",
       "2                             NaN                            NaN   \n",
       "3                             NaN                            NaN   \n",
       "4                             NaN                            NaN   \n",
       "\n",
       "   people_fully_vaccinated_per_hundred  daily_vaccinations_per_million  \\\n",
       "0                                  NaN                             NaN   \n",
       "1                                  NaN                            35.0   \n",
       "2                                  NaN                            35.0   \n",
       "3                                  NaN                            35.0   \n",
       "4                                  NaN                            35.0   \n",
       "\n",
       "                                            vaccines  \\\n",
       "0  Oxford/AstraZeneca, Pfizer/BioNTech, Sinopharm...   \n",
       "1  Oxford/AstraZeneca, Pfizer/BioNTech, Sinopharm...   \n",
       "2  Oxford/AstraZeneca, Pfizer/BioNTech, Sinopharm...   \n",
       "3  Oxford/AstraZeneca, Pfizer/BioNTech, Sinopharm...   \n",
       "4  Oxford/AstraZeneca, Pfizer/BioNTech, Sinopharm...   \n",
       "\n",
       "                 source_name            source_website  \n",
       "0  World Health Organization  https://covid19.who.int/  \n",
       "1  World Health Organization  https://covid19.who.int/  \n",
       "2  World Health Organization  https://covid19.who.int/  \n",
       "3  World Health Organization  https://covid19.who.int/  \n",
       "4  World Health Organization  https://covid19.who.int/  "
      ]
     },
     "execution_count": 4,
     "metadata": {},
     "output_type": "execute_result"
    }
   ],
   "source": [
    "df.head(5)"
   ]
  },
  {
   "cell_type": "markdown",
   "metadata": {},
   "source": [
    "# Data Cleaning"
   ]
  },
  {
   "cell_type": "code",
   "execution_count": 5,
   "metadata": {},
   "outputs": [
    {
     "data": {
      "text/plain": [
       "Index(['country', 'iso_code', 'date', 'total_vaccinations',\n",
       "       'people_vaccinated', 'people_fully_vaccinated',\n",
       "       'daily_vaccinations_raw', 'daily_vaccinations',\n",
       "       'total_vaccinations_per_hundred', 'people_vaccinated_per_hundred',\n",
       "       'people_fully_vaccinated_per_hundred', 'daily_vaccinations_per_million',\n",
       "       'vaccines', 'source_name', 'source_website'],\n",
       "      dtype='object')"
      ]
     },
     "execution_count": 5,
     "metadata": {},
     "output_type": "execute_result"
    }
   ],
   "source": [
    "df.columns"
   ]
  },
  {
   "cell_type": "code",
   "execution_count": 6,
   "metadata": {},
   "outputs": [
    {
     "data": {
      "text/plain": [
       "country                                    0\n",
       "iso_code                                   0\n",
       "date                                       0\n",
       "total_vaccinations                      7969\n",
       "people_vaccinated                       8726\n",
       "people_fully_vaccinated                11097\n",
       "daily_vaccinations_raw                  9766\n",
       "daily_vaccinations                       213\n",
       "total_vaccinations_per_hundred          7969\n",
       "people_vaccinated_per_hundred           8726\n",
       "people_fully_vaccinated_per_hundred    11097\n",
       "daily_vaccinations_per_million           213\n",
       "vaccines                                   0\n",
       "source_name                                0\n",
       "source_website                             0\n",
       "dtype: int64"
      ]
     },
     "execution_count": 6,
     "metadata": {},
     "output_type": "execute_result"
    }
   ],
   "source": [
    "df.isnull().sum()"
   ]
  },
  {
   "cell_type": "code",
   "execution_count": 7,
   "metadata": {},
   "outputs": [
    {
     "data": {
      "text/plain": [
       "(18764, 15)"
      ]
     },
     "execution_count": 7,
     "metadata": {},
     "output_type": "execute_result"
    }
   ],
   "source": [
    "df.shape"
   ]
  },
  {
   "cell_type": "code",
   "execution_count": 8,
   "metadata": {},
   "outputs": [],
   "source": [
    "#Droppin total_vaccinations missing data, as without this value any raw doesn't make much sense.\n",
    "df = df.drop(df[df.total_vaccinations.isna()].index)"
   ]
  },
  {
   "cell_type": "code",
   "execution_count": 9,
   "metadata": {},
   "outputs": [
    {
     "data": {
      "text/plain": [
       "(10795, 15)"
      ]
     },
     "execution_count": 9,
     "metadata": {},
     "output_type": "execute_result"
    }
   ],
   "source": [
    "df.shape"
   ]
  },
  {
   "cell_type": "code",
   "execution_count": 10,
   "metadata": {},
   "outputs": [
    {
     "data": {
      "image/png": "[encoded data removed]",
      "text/plain": [
       "<Figure size 576x576 with 2 Axes>"
      ]
     },
     "metadata": {
      "needs_background": "light"
     },
     "output_type": "display_data"
    }
   ],
   "source": [
    "plt.subplots(figsize=(8, 8))\n",
    "sns.heatmap(df.corr(), annot=True, square=True)\n",
    "plt.show()"
   ]
  },
  {
   "cell_type": "markdown",
   "metadata": {},
   "source": [
    "The values of total_vaccinations column are strongly correlated with people_vaccinated column's.4"
   ]
  },
  {
   "cell_type": "code",
   "execution_count": 11,
   "metadata": {},
   "outputs": [
    {
     "data": {
      "text/plain": [
       "country                                   0\n",
       "iso_code                                  0\n",
       "date                                      0\n",
       "total_vaccinations                        0\n",
       "people_vaccinated                       844\n",
       "people_fully_vaccinated                3129\n",
       "daily_vaccinations_raw                 1797\n",
       "daily_vaccinations                      211\n",
       "total_vaccinations_per_hundred            0\n",
       "people_vaccinated_per_hundred           844\n",
       "people_fully_vaccinated_per_hundred    3129\n",
       "daily_vaccinations_per_million          211\n",
       "vaccines                                  0\n",
       "source_name                               0\n",
       "source_website                            0\n",
       "dtype: int64"
      ]
     },
     "execution_count": 11,
     "metadata": {},
     "output_type": "execute_result"
    }
   ],
   "source": [
    "df.isna().sum()"
   ]
  },
  {
   "cell_type": "code",
   "execution_count": 12,
   "metadata": {},
   "outputs": [],
   "source": [
    "#df_copy = df.copy()"
   ]
  },
  {
   "cell_type": "code",
   "execution_count": 13,
   "metadata": {},
   "outputs": [],
   "source": [
    "#df_copy = df_copy.drop(df_copy[df_copy.people_vaccinated.isna()].index)"
   ]
  },
  {
   "cell_type": "code",
   "execution_count": 14,
   "metadata": {},
   "outputs": [],
   "source": [
    "#Let's check the hypothesis that these columns distributions are the same.\n",
    "#We will use Mann-Whithey U test for this goal."
   ]
  },
  {
   "cell_type": "code",
   "execution_count": 15,
   "metadata": {},
   "outputs": [
    {
     "data": {
      "text/plain": [
       "MannwhitneyuResult(statistic=56890750.5, pvalue=0.0026695698080454987)"
      ]
     },
     "execution_count": 15,
     "metadata": {},
     "output_type": "execute_result"
    }
   ],
   "source": [
    "scipy.stats.mannwhitneyu(df.total_vaccinations, df.people_vaccinated, alternative='two-sided')"
   ]
  },
  {
   "cell_type": "markdown",
   "metadata": {},
   "source": [
    "As p-value is less than 0.05, which means we reject our hyphotesis.\n",
    "So, we will fill the missing values with 0."
   ]
  },
  {
   "cell_type": "code",
   "execution_count": 16,
   "metadata": {},
   "outputs": [],
   "source": [
    "df.people_vaccinated = df.people_vaccinated.fillna(0)"
   ]
  },
  {
   "cell_type": "code",
   "execution_count": 17,
   "metadata": {},
   "outputs": [
    {
     "data": {
      "text/plain": [
       "country                                   0\n",
       "iso_code                                  0\n",
       "date                                      0\n",
       "total_vaccinations                        0\n",
       "people_vaccinated                         0\n",
       "people_fully_vaccinated                3129\n",
       "daily_vaccinations_raw                 1797\n",
       "daily_vaccinations                      211\n",
       "total_vaccinations_per_hundred            0\n",
       "people_vaccinated_per_hundred           844\n",
       "people_fully_vaccinated_per_hundred    3129\n",
       "daily_vaccinations_per_million          211\n",
       "vaccines                                  0\n",
       "source_name                               0\n",
       "source_website                            0\n",
       "dtype: int64"
      ]
     },
     "execution_count": 17,
     "metadata": {},
     "output_type": "execute_result"
    }
   ],
   "source": [
    "df.isna().sum()"
   ]
  },
  {
   "cell_type": "markdown",
   "metadata": {},
   "source": [
    "Other Strong correlations that we identify from the above heatmap are:\n",
    "\n",
    "2.total_vaccinations_per_hundred vs people_vaccinated_per_hundred\n",
    "3.daily_vaccinations vs  people_vaccinated\n",
    "4.daily_vaccinations_per_million vs people_vaccinated_per_hundred\n",
    "5.people_fully_vaccinated vs  total_vaccinations\n",
    "6.people_fully_vaccinated_per_hundred vs total_vaccinations_per_hundred\n",
    "7.daily_vaccinations_raw vs daily_vaccinations"
   ]
  },
  {
   "cell_type": "code",
   "execution_count": 18,
   "metadata": {},
   "outputs": [
    {
     "data": {
      "text/plain": [
       "MannwhitneyuResult(statistic=57905856.5, pvalue=0.4315482792032509)"
      ]
     },
     "execution_count": 18,
     "metadata": {},
     "output_type": "execute_result"
    }
   ],
   "source": [
    "scipy.stats.mannwhitneyu(df.total_vaccinations_per_hundred, df.people_vaccinated_per_hundred, alternative='two-sided')"
   ]
  },
  {
   "cell_type": "raw",
   "metadata": {},
   "source": [
    "#p-value is much than 0.05, which means we can't reject our hyphotesis.\n",
    "#we will fill the missing values with the difference of these column's mean values."
   ]
  },
  {
   "cell_type": "code",
   "execution_count": 19,
   "metadata": {},
   "outputs": [],
   "source": [
    "#df.people_vaccinated_per_hundred = df.people_vaccinated_per_hundred.fillna(0)\n",
    "diff_per_hundred = df.total_vaccinations_per_hundred.mean() - df.people_vaccinated_per_hundred.mean()\n",
    "df.people_vaccinated_per_hundred = df.people_vaccinated_per_hundred.fillna(df.total_vaccinations_per_hundred - diff_per_hundred)"
   ]
  },
  {
   "cell_type": "code",
   "execution_count": 20,
   "metadata": {},
   "outputs": [
    {
     "data": {
      "text/plain": [
       "MannwhitneyuResult(statistic=29366750.0, pvalue=0.0)"
      ]
     },
     "execution_count": 20,
     "metadata": {},
     "output_type": "execute_result"
    }
   ],
   "source": [
    "scipy.stats.mannwhitneyu(df.daily_vaccinations, df.people_vaccinated, alternative='two-sided')"
   ]
  },
  {
   "cell_type": "code",
   "execution_count": 21,
   "metadata": {},
   "outputs": [],
   "source": [
    "df.daily_vaccinations = df.daily_vaccinations.fillna(0)"
   ]
  },
  {
   "cell_type": "code",
   "execution_count": 22,
   "metadata": {},
   "outputs": [
    {
     "data": {
      "text/plain": [
       "MannwhitneyuResult(statistic=114912595.5, pvalue=0.0)"
      ]
     },
     "execution_count": 22,
     "metadata": {},
     "output_type": "execute_result"
    }
   ],
   "source": [
    "scipy.stats.mannwhitneyu(df.daily_vaccinations_per_million, df.people_vaccinated_per_hundred, alternative='two-sided')"
   ]
  },
  {
   "cell_type": "code",
   "execution_count": 23,
   "metadata": {},
   "outputs": [],
   "source": [
    "df.daily_vaccinations_per_million = df.daily_vaccinations_per_million.fillna(0)"
   ]
  },
  {
   "cell_type": "code",
   "execution_count": 24,
   "metadata": {},
   "outputs": [
    {
     "data": {
      "text/plain": [
       "MannwhitneyuResult(statistic=66328301.0, pvalue=2.169668356818736e-69)"
      ]
     },
     "execution_count": 24,
     "metadata": {},
     "output_type": "execute_result"
    }
   ],
   "source": [
    "scipy.stats.mannwhitneyu(df.people_fully_vaccinated, df.total_vaccinations, alternative='two-sided')"
   ]
  },
  {
   "cell_type": "code",
   "execution_count": 25,
   "metadata": {},
   "outputs": [],
   "source": [
    "df.people_fully_vaccinated = df.people_fully_vaccinated.fillna(0)"
   ]
  },
  {
   "cell_type": "code",
   "execution_count": 26,
   "metadata": {},
   "outputs": [
    {
     "data": {
      "text/plain": [
       "MannwhitneyuResult(statistic=62889277.0, pvalue=5.70888857535949e-24)"
      ]
     },
     "execution_count": 26,
     "metadata": {},
     "output_type": "execute_result"
    }
   ],
   "source": [
    "scipy.stats.mannwhitneyu(df.people_fully_vaccinated_per_hundred, df.total_vaccinations_per_hundred, alternative='two-sided')"
   ]
  },
  {
   "cell_type": "code",
   "execution_count": 27,
   "metadata": {},
   "outputs": [],
   "source": [
    "df.people_fully_vaccinated_per_hundred = df.people_fully_vaccinated_per_hundred.fillna(0)"
   ]
  },
  {
   "cell_type": "code",
   "execution_count": 28,
   "metadata": {},
   "outputs": [
    {
     "data": {
      "text/plain": [
       "MannwhitneyuResult(statistic=70580864.0, pvalue=2.5516766302881847e-159)"
      ]
     },
     "execution_count": 28,
     "metadata": {},
     "output_type": "execute_result"
    }
   ],
   "source": [
    "scipy.stats.mannwhitneyu(df.daily_vaccinations_raw, df.daily_vaccinations, alternative='two-sided')"
   ]
  },
  {
   "cell_type": "code",
   "execution_count": 29,
   "metadata": {},
   "outputs": [],
   "source": [
    "df.daily_vaccinations_raw = df.daily_vaccinations_raw.fillna(0)"
   ]
  },
  {
   "cell_type": "code",
   "execution_count": 30,
   "metadata": {},
   "outputs": [
    {
     "data": {
      "text/plain": [
       "country                                0\n",
       "iso_code                               0\n",
       "date                                   0\n",
       "total_vaccinations                     0\n",
       "people_vaccinated                      0\n",
       "people_fully_vaccinated                0\n",
       "daily_vaccinations_raw                 0\n",
       "daily_vaccinations                     0\n",
       "total_vaccinations_per_hundred         0\n",
       "people_vaccinated_per_hundred          0\n",
       "people_fully_vaccinated_per_hundred    0\n",
       "daily_vaccinations_per_million         0\n",
       "vaccines                               0\n",
       "source_name                            0\n",
       "source_website                         0\n",
       "dtype: int64"
      ]
     },
     "execution_count": 30,
     "metadata": {},
     "output_type": "execute_result"
    }
   ],
   "source": [
    "df.isna().sum()"
   ]
  },
  {
   "cell_type": "code",
   "execution_count": 31,
   "metadata": {},
   "outputs": [
    {
     "data": {
      "text/plain": [
       "(10795, 15)"
      ]
     },
     "execution_count": 31,
     "metadata": {},
     "output_type": "execute_result"
    }
   ],
   "source": [
    "df.shape"
   ]
  },
  {
   "cell_type": "code",
   "execution_count": 32,
   "metadata": {},
   "outputs": [
    {
     "data": {
      "text/plain": [
       "country                                        object\n",
       "iso_code                                       object\n",
       "date                                   datetime64[ns]\n",
       "total_vaccinations                            float64\n",
       "people_vaccinated                             float64\n",
       "people_fully_vaccinated                       float64\n",
       "daily_vaccinations_raw                        float64\n",
       "daily_vaccinations                            float64\n",
       "total_vaccinations_per_hundred                float64\n",
       "people_vaccinated_per_hundred                 float64\n",
       "people_fully_vaccinated_per_hundred           float64\n",
       "daily_vaccinations_per_million                float64\n",
       "vaccines                                       object\n",
       "source_name                                    object\n",
       "source_website                                 object\n",
       "dtype: object"
      ]
     },
     "execution_count": 32,
     "metadata": {},
     "output_type": "execute_result"
    }
   ],
   "source": [
    "df.dtypes"
   ]
  },
  {
   "cell_type": "markdown",
   "metadata": {},
   "source": [
    "# Forecasting Starts"
   ]
  },
  {
   "cell_type": "code",
   "execution_count": 33,
   "metadata": {},
   "outputs": [
    {
     "name": "stdout",
     "output_type": "stream",
     "text": [
      "            total_vaccinations\n",
      "date                          \n",
      "2020-12-06        2.000000e+00\n",
      "2020-12-07        4.000000e+00\n",
      "2020-12-08        4.000000e+00\n",
      "2020-12-09        5.000000e+00\n",
      "2020-12-10        6.000000e+00\n",
      "...                        ...\n",
      "2021-05-13        1.394810e+09\n",
      "2021-05-14        1.376011e+09\n",
      "2021-05-15        1.380323e+09\n",
      "2021-05-16        1.465803e+09\n",
      "2021-05-17        1.497409e+09\n",
      "\n",
      "[163 rows x 1 columns]\n"
     ]
    }
   ],
   "source": [
    "t_cols = ['date','total_vaccinations']\n",
    "timeseries = df[t_cols].groupby('date').sum()[4:-1]\n",
    "timeseries = pd.DataFrame(timeseries)\n",
    "print(timeseries)"
   ]
  },
  {
   "cell_type": "code",
   "execution_count": 34,
   "metadata": {},
   "outputs": [
    {
     "data": {
      "text/plain": [
       "(163, 1)"
      ]
     },
     "execution_count": 34,
     "metadata": {},
     "output_type": "execute_result"
    }
   ],
   "source": [
    "#timeseries = timeseries.set_index('date')\n",
    "timeseries.shape"
   ]
  },
  {
   "cell_type": "code",
   "execution_count": 35,
   "metadata": {},
   "outputs": [
    {
     "data": {
      "text/plain": [
       "<matplotlib.axes._subplots.AxesSubplot at 0x2004429f2e0>"
      ]
     },
     "execution_count": 35,
     "metadata": {},
     "output_type": "execute_result"
    },
    {
     "data": {
      "image/png": "[encoded data removed]",
      "text/plain": [
       "<Figure size 864x360 with 1 Axes>"
      ]
     },
     "metadata": {
      "needs_background": "light"
     },
     "output_type": "display_data"
    }
   ],
   "source": [
    "timeseries['total_vaccinations'].plot(figsize=(12,5))"
   ]
  },
  {
   "cell_type": "markdown",
   "metadata": {},
   "source": [
    "#### What can bee seen, is that despite some days the amount of vaccinated people falls, the vaccination has strong long uptrend.\n"
   ]
  },
  {
   "cell_type": "markdown",
   "metadata": {},
   "source": [
    "# Timeseries transformations to make it stationary"
   ]
  },
  {
   "cell_type": "markdown",
   "metadata": {},
   "source": [
    "#### Testing For Stationarity using Dickey-Fuller Test"
   ]
  },
  {
   "cell_type": "code",
   "execution_count": 36,
   "metadata": {},
   "outputs": [],
   "source": [
    "from statsmodels.tsa.stattools import adfuller"
   ]
  },
  {
   "cell_type": "code",
   "execution_count": 37,
   "metadata": {},
   "outputs": [],
   "source": [
    "#Ho: It is non stationary\n",
    "#H1: It is stationary\n",
    "\n",
    "def adfuller_test(sales):\n",
    "    result=adfuller(sales)\n",
    "    labels = ['ADF Test Statistic','p-value','#Lags Used','Number of Observations Used']\n",
    "    for value,label in zip(result,labels):\n",
    "        print(label+' : '+str(value) )\n",
    "    if result[1] <= 0.05:\n",
    "        print(\"strong evidence against the null hypothesis(Ho), reject the null hypothesis. Data has no unit root and is stationary\")\n",
    "    else:\n",
    "        print(\"Weak evidence against null hypothesis, time series has a unit root, indicating it is non-stationary \")"
   ]
  },
  {
   "cell_type": "code",
   "execution_count": 38,
   "metadata": {},
   "outputs": [
    {
     "name": "stdout",
     "output_type": "stream",
     "text": [
      "ADF Test Statistic : 6.240511150727797\n",
      "p-value : 1.0\n",
      "#Lags Used : 5\n",
      "Number of Observations Used : 157\n",
      "Weak evidence against null hypothesis, time series has a unit root, indicating it is non-stationary \n"
     ]
    }
   ],
   "source": [
    "adfuller_test(timeseries['total_vaccinations'])"
   ]
  },
  {
   "cell_type": "code",
   "execution_count": 39,
   "metadata": {},
   "outputs": [],
   "source": [
    "from pmdarima import auto_arima\n",
    "# Ignore harmless warnings\n",
    "import warnings\n",
    "warnings.filterwarnings(\"ignore\")"
   ]
  },
  {
   "cell_type": "code",
   "execution_count": 40,
   "metadata": {},
   "outputs": [
    {
     "data": {
      "text/html": [
       "<table class=\"simpletable\">\n",
       "<caption>SARIMAX Results</caption>\n",
       "<tr>\n",
       "  <th>Dep. Variable:</th>           <td>y</td>        <th>  No. Observations:  </th>    <td>163</td>   \n",
       "</tr>\n",
       "<tr>\n",
       "  <th>Model:</th>           <td>SARIMAX(3, 2, 4)</td> <th>  Log Likelihood     </th> <td>-2985.778</td>\n",
       "</tr>\n",
       "<tr>\n",
       "  <th>Date:</th>            <td>Sat, 26 Jun 2021</td> <th>  AIC                </th> <td>5987.557</td> \n",
       "</tr>\n",
       "<tr>\n",
       "  <th>Time:</th>                <td>16:25:41</td>     <th>  BIC                </th> <td>6012.208</td> \n",
       "</tr>\n",
       "<tr>\n",
       "  <th>Sample:</th>                  <td>0</td>        <th>  HQIC               </th> <td>5997.566</td> \n",
       "</tr>\n",
       "<tr>\n",
       "  <th></th>                      <td> - 163</td>      <th>                     </th>     <td> </td>    \n",
       "</tr>\n",
       "<tr>\n",
       "  <th>Covariance Type:</th>        <td>opg</td>       <th>                     </th>     <td> </td>    \n",
       "</tr>\n",
       "</table>\n",
       "<table class=\"simpletable\">\n",
       "<tr>\n",
       "     <td></td>       <th>coef</th>     <th>std err</th>      <th>z</th>      <th>P>|z|</th>  <th>[0.025</th>    <th>0.975]</th>  \n",
       "</tr>\n",
       "<tr>\n",
       "  <th>ar.L1</th>  <td>   -1.2107</td> <td>    0.111</td> <td>  -10.897</td> <td> 0.000</td> <td>   -1.428</td> <td>   -0.993</td>\n",
       "</tr>\n",
       "<tr>\n",
       "  <th>ar.L2</th>  <td>   -0.8227</td> <td>    0.104</td> <td>   -7.922</td> <td> 0.000</td> <td>   -1.026</td> <td>   -0.619</td>\n",
       "</tr>\n",
       "<tr>\n",
       "  <th>ar.L3</th>  <td>   -0.1497</td> <td>    0.089</td> <td>   -1.674</td> <td> 0.094</td> <td>   -0.325</td> <td>    0.026</td>\n",
       "</tr>\n",
       "<tr>\n",
       "  <th>ma.L1</th>  <td>   -0.2771</td> <td>    0.122</td> <td>   -2.275</td> <td> 0.023</td> <td>   -0.516</td> <td>   -0.038</td>\n",
       "</tr>\n",
       "<tr>\n",
       "  <th>ma.L2</th>  <td>   -0.7653</td> <td>    0.125</td> <td>   -6.117</td> <td> 0.000</td> <td>   -1.010</td> <td>   -0.520</td>\n",
       "</tr>\n",
       "<tr>\n",
       "  <th>ma.L3</th>  <td>   -0.4200</td> <td>    0.106</td> <td>   -3.976</td> <td> 0.000</td> <td>   -0.627</td> <td>   -0.213</td>\n",
       "</tr>\n",
       "<tr>\n",
       "  <th>ma.L4</th>  <td>    0.5816</td> <td>    0.107</td> <td>    5.433</td> <td> 0.000</td> <td>    0.372</td> <td>    0.791</td>\n",
       "</tr>\n",
       "<tr>\n",
       "  <th>sigma2</th> <td> 8.429e+14</td> <td>  1.6e-16</td> <td> 5.27e+30</td> <td> 0.000</td> <td> 8.43e+14</td> <td> 8.43e+14</td>\n",
       "</tr>\n",
       "</table>\n",
       "<table class=\"simpletable\">\n",
       "<tr>\n",
       "  <th>Ljung-Box (Q):</th>          <td>36.54</td> <th>  Jarque-Bera (JB):  </th> <td>136.86</td>\n",
       "</tr>\n",
       "<tr>\n",
       "  <th>Prob(Q):</th>                <td>0.63</td>  <th>  Prob(JB):          </th>  <td>0.00</td> \n",
       "</tr>\n",
       "<tr>\n",
       "  <th>Heteroskedasticity (H):</th> <td>34.03</td> <th>  Skew:              </th>  <td>-0.20</td>\n",
       "</tr>\n",
       "<tr>\n",
       "  <th>Prob(H) (two-sided):</th>    <td>0.00</td>  <th>  Kurtosis:          </th>  <td>7.50</td> \n",
       "</tr>\n",
       "</table><br/><br/>Warnings:<br/>[1] Covariance matrix calculated using the outer product of gradients (complex-step).<br/>[2] Covariance matrix is singular or near-singular, with condition number 1.18e+46. Standard errors may be unstable."
      ],
      "text/plain": [
       "<class 'statsmodels.iolib.summary.Summary'>\n",
       "\"\"\"\n",
       "                               SARIMAX Results                                \n",
       "==============================================================================\n",
       "Dep. Variable:                      y   No. Observations:                  163\n",
       "Model:               SARIMAX(3, 2, 4)   Log Likelihood               -2985.778\n",
       "Date:                Sat, 26 Jun 2021   AIC                           5987.557\n",
       "Time:                        16:25:41   BIC                           6012.208\n",
       "Sample:                             0   HQIC                          5997.566\n",
       "                                - 163                                         \n",
       "Covariance Type:                  opg                                         \n",
       "==============================================================================\n",
       "                 coef    std err          z      P>|z|      [0.025      0.975]\n",
       "------------------------------------------------------------------------------\n",
       "ar.L1         -1.2107      0.111    -10.897      0.000      -1.428      -0.993\n",
       "ar.L2         -0.8227      0.104     -7.922      0.000      -1.026      -0.619\n",
       "ar.L3         -0.1497      0.089     -1.674      0.094      -0.325       0.026\n",
       "ma.L1         -0.2771      0.122     -2.275      0.023      -0.516      -0.038\n",
       "ma.L2         -0.7653      0.125     -6.117      0.000      -1.010      -0.520\n",
       "ma.L3         -0.4200      0.106     -3.976      0.000      -0.627      -0.213\n",
       "ma.L4          0.5816      0.107      5.433      0.000       0.372       0.791\n",
       "sigma2      8.429e+14    1.6e-16   5.27e+30      0.000    8.43e+14    8.43e+14\n",
       "===================================================================================\n",
       "Ljung-Box (Q):                       36.54   Jarque-Bera (JB):               136.86\n",
       "Prob(Q):                              0.63   Prob(JB):                         0.00\n",
       "Heteroskedasticity (H):              34.03   Skew:                            -0.20\n",
       "Prob(H) (two-sided):                  0.00   Kurtosis:                         7.50\n",
       "===================================================================================\n",
       "\n",
       "Warnings:\n",
       "[1] Covariance matrix calculated using the outer product of gradients (complex-step).\n",
       "[2] Covariance matrix is singular or near-singular, with condition number 1.18e+46. Standard errors may be unstable.\n",
       "\"\"\""
      ]
     },
     "execution_count": 40,
     "metadata": {},
     "output_type": "execute_result"
    }
   ],
   "source": [
    "stepwise_fit = auto_arima(timeseries['total_vaccinations'], \n",
    "                          suppress_warnings=True)           \n",
    "\n",
    "stepwise_fit.summary()"
   ]
  },
  {
   "cell_type": "markdown",
   "metadata": {},
   "source": [
    "### p=3 as given by auto Arima\n",
    "### Considering past 3 days values data for making predictions"
   ]
  },
  {
   "cell_type": "code",
   "execution_count": 41,
   "metadata": {},
   "outputs": [
    {
     "data": {
      "text/html": [
       "<div>\n",
       "<style scoped>\n",
       "    .dataframe tbody tr th:only-of-type {\n",
       "        vertical-align: middle;\n",
       "    }\n",
       "\n",
       "    .dataframe tbody tr th {\n",
       "        vertical-align: top;\n",
       "    }\n",
       "\n",
       "    .dataframe thead th {\n",
       "        text-align: right;\n",
       "    }\n",
       "</style>\n",
       "<table border=\"1\" class=\"dataframe\">\n",
       "  <thead>\n",
       "    <tr style=\"text-align: right;\">\n",
       "      <th></th>\n",
       "      <th>total_vaccinations</th>\n",
       "      <th>Vaccinations_LastDay</th>\n",
       "      <th>Vaccinations_SecondLastDay</th>\n",
       "      <th>Vaccinations_ThirdLastDay</th>\n",
       "    </tr>\n",
       "    <tr>\n",
       "      <th>date</th>\n",
       "      <th></th>\n",
       "      <th></th>\n",
       "      <th></th>\n",
       "      <th></th>\n",
       "    </tr>\n",
       "  </thead>\n",
       "  <tbody>\n",
       "    <tr>\n",
       "      <th>2020-12-06</th>\n",
       "      <td>2.000000e+00</td>\n",
       "      <td>NaN</td>\n",
       "      <td>NaN</td>\n",
       "      <td>NaN</td>\n",
       "    </tr>\n",
       "    <tr>\n",
       "      <th>2020-12-07</th>\n",
       "      <td>4.000000e+00</td>\n",
       "      <td>2.000000e+00</td>\n",
       "      <td>NaN</td>\n",
       "      <td>NaN</td>\n",
       "    </tr>\n",
       "    <tr>\n",
       "      <th>2020-12-08</th>\n",
       "      <td>4.000000e+00</td>\n",
       "      <td>4.000000e+00</td>\n",
       "      <td>2.000000e+00</td>\n",
       "      <td>NaN</td>\n",
       "    </tr>\n",
       "    <tr>\n",
       "      <th>2020-12-09</th>\n",
       "      <td>5.000000e+00</td>\n",
       "      <td>4.000000e+00</td>\n",
       "      <td>4.000000e+00</td>\n",
       "      <td>2.000000e+00</td>\n",
       "    </tr>\n",
       "    <tr>\n",
       "      <th>2020-12-10</th>\n",
       "      <td>6.000000e+00</td>\n",
       "      <td>5.000000e+00</td>\n",
       "      <td>4.000000e+00</td>\n",
       "      <td>4.000000e+00</td>\n",
       "    </tr>\n",
       "    <tr>\n",
       "      <th>...</th>\n",
       "      <td>...</td>\n",
       "      <td>...</td>\n",
       "      <td>...</td>\n",
       "      <td>...</td>\n",
       "    </tr>\n",
       "    <tr>\n",
       "      <th>2021-05-13</th>\n",
       "      <td>1.394810e+09</td>\n",
       "      <td>1.351184e+09</td>\n",
       "      <td>1.365232e+09</td>\n",
       "      <td>1.288478e+09</td>\n",
       "    </tr>\n",
       "    <tr>\n",
       "      <th>2021-05-14</th>\n",
       "      <td>1.376011e+09</td>\n",
       "      <td>1.394810e+09</td>\n",
       "      <td>1.351184e+09</td>\n",
       "      <td>1.365232e+09</td>\n",
       "    </tr>\n",
       "    <tr>\n",
       "      <th>2021-05-15</th>\n",
       "      <td>1.380323e+09</td>\n",
       "      <td>1.376011e+09</td>\n",
       "      <td>1.394810e+09</td>\n",
       "      <td>1.351184e+09</td>\n",
       "    </tr>\n",
       "    <tr>\n",
       "      <th>2021-05-16</th>\n",
       "      <td>1.465803e+09</td>\n",
       "      <td>1.380323e+09</td>\n",
       "      <td>1.376011e+09</td>\n",
       "      <td>1.394810e+09</td>\n",
       "    </tr>\n",
       "    <tr>\n",
       "      <th>2021-05-17</th>\n",
       "      <td>1.497409e+09</td>\n",
       "      <td>1.465803e+09</td>\n",
       "      <td>1.380323e+09</td>\n",
       "      <td>1.376011e+09</td>\n",
       "    </tr>\n",
       "  </tbody>\n",
       "</table>\n",
       "<p>163 rows × 4 columns</p>\n",
       "</div>"
      ],
      "text/plain": [
       "            total_vaccinations  Vaccinations_LastDay  \\\n",
       "date                                                   \n",
       "2020-12-06        2.000000e+00                   NaN   \n",
       "2020-12-07        4.000000e+00          2.000000e+00   \n",
       "2020-12-08        4.000000e+00          4.000000e+00   \n",
       "2020-12-09        5.000000e+00          4.000000e+00   \n",
       "2020-12-10        6.000000e+00          5.000000e+00   \n",
       "...                        ...                   ...   \n",
       "2021-05-13        1.394810e+09          1.351184e+09   \n",
       "2021-05-14        1.376011e+09          1.394810e+09   \n",
       "2021-05-15        1.380323e+09          1.376011e+09   \n",
       "2021-05-16        1.465803e+09          1.380323e+09   \n",
       "2021-05-17        1.497409e+09          1.465803e+09   \n",
       "\n",
       "            Vaccinations_SecondLastDay  Vaccinations_ThirdLastDay  \n",
       "date                                                               \n",
       "2020-12-06                         NaN                        NaN  \n",
       "2020-12-07                         NaN                        NaN  \n",
       "2020-12-08                2.000000e+00                        NaN  \n",
       "2020-12-09                4.000000e+00               2.000000e+00  \n",
       "2020-12-10                4.000000e+00               4.000000e+00  \n",
       "...                                ...                        ...  \n",
       "2021-05-13                1.365232e+09               1.288478e+09  \n",
       "2021-05-14                1.351184e+09               1.365232e+09  \n",
       "2021-05-15                1.394810e+09               1.351184e+09  \n",
       "2021-05-16                1.376011e+09               1.394810e+09  \n",
       "2021-05-17                1.380323e+09               1.376011e+09  \n",
       "\n",
       "[163 rows x 4 columns]"
      ]
     },
     "execution_count": 41,
     "metadata": {},
     "output_type": "execute_result"
    }
   ],
   "source": [
    "timeseries['Vaccinations_LastDay']=timeseries['total_vaccinations'].shift(+1)\n",
    "timeseries['Vaccinations_SecondLastDay']=timeseries['total_vaccinations'].shift(+2)\n",
    "timeseries['Vaccinations_ThirdLastDay']=timeseries['total_vaccinations'].shift(+3)\n",
    "timeseries"
   ]
  },
  {
   "cell_type": "code",
   "execution_count": 42,
   "metadata": {},
   "outputs": [
    {
     "data": {
      "text/html": [
       "<div>\n",
       "<style scoped>\n",
       "    .dataframe tbody tr th:only-of-type {\n",
       "        vertical-align: middle;\n",
       "    }\n",
       "\n",
       "    .dataframe tbody tr th {\n",
       "        vertical-align: top;\n",
       "    }\n",
       "\n",
       "    .dataframe thead th {\n",
       "        text-align: right;\n",
       "    }\n",
       "</style>\n",
       "<table border=\"1\" class=\"dataframe\">\n",
       "  <thead>\n",
       "    <tr style=\"text-align: right;\">\n",
       "      <th></th>\n",
       "      <th>total_vaccinations</th>\n",
       "      <th>Vaccinations_LastDay</th>\n",
       "      <th>Vaccinations_SecondLastDay</th>\n",
       "      <th>Vaccinations_ThirdLastDay</th>\n",
       "    </tr>\n",
       "    <tr>\n",
       "      <th>date</th>\n",
       "      <th></th>\n",
       "      <th></th>\n",
       "      <th></th>\n",
       "      <th></th>\n",
       "    </tr>\n",
       "  </thead>\n",
       "  <tbody>\n",
       "    <tr>\n",
       "      <th>2020-12-09</th>\n",
       "      <td>5.000000e+00</td>\n",
       "      <td>4.000000e+00</td>\n",
       "      <td>4.000000e+00</td>\n",
       "      <td>2.000000e+00</td>\n",
       "    </tr>\n",
       "    <tr>\n",
       "      <th>2020-12-10</th>\n",
       "      <td>6.000000e+00</td>\n",
       "      <td>5.000000e+00</td>\n",
       "      <td>4.000000e+00</td>\n",
       "      <td>4.000000e+00</td>\n",
       "    </tr>\n",
       "    <tr>\n",
       "      <th>2020-12-11</th>\n",
       "      <td>6.000000e+00</td>\n",
       "      <td>6.000000e+00</td>\n",
       "      <td>5.000000e+00</td>\n",
       "      <td>4.000000e+00</td>\n",
       "    </tr>\n",
       "    <tr>\n",
       "      <th>2020-12-12</th>\n",
       "      <td>6.000000e+00</td>\n",
       "      <td>6.000000e+00</td>\n",
       "      <td>6.000000e+00</td>\n",
       "      <td>5.000000e+00</td>\n",
       "    </tr>\n",
       "    <tr>\n",
       "      <th>2020-12-13</th>\n",
       "      <td>6.000000e+00</td>\n",
       "      <td>6.000000e+00</td>\n",
       "      <td>6.000000e+00</td>\n",
       "      <td>6.000000e+00</td>\n",
       "    </tr>\n",
       "    <tr>\n",
       "      <th>...</th>\n",
       "      <td>...</td>\n",
       "      <td>...</td>\n",
       "      <td>...</td>\n",
       "      <td>...</td>\n",
       "    </tr>\n",
       "    <tr>\n",
       "      <th>2021-05-13</th>\n",
       "      <td>1.394810e+09</td>\n",
       "      <td>1.351184e+09</td>\n",
       "      <td>1.365232e+09</td>\n",
       "      <td>1.288478e+09</td>\n",
       "    </tr>\n",
       "    <tr>\n",
       "      <th>2021-05-14</th>\n",
       "      <td>1.376011e+09</td>\n",
       "      <td>1.394810e+09</td>\n",
       "      <td>1.351184e+09</td>\n",
       "      <td>1.365232e+09</td>\n",
       "    </tr>\n",
       "    <tr>\n",
       "      <th>2021-05-15</th>\n",
       "      <td>1.380323e+09</td>\n",
       "      <td>1.376011e+09</td>\n",
       "      <td>1.394810e+09</td>\n",
       "      <td>1.351184e+09</td>\n",
       "    </tr>\n",
       "    <tr>\n",
       "      <th>2021-05-16</th>\n",
       "      <td>1.465803e+09</td>\n",
       "      <td>1.380323e+09</td>\n",
       "      <td>1.376011e+09</td>\n",
       "      <td>1.394810e+09</td>\n",
       "    </tr>\n",
       "    <tr>\n",
       "      <th>2021-05-17</th>\n",
       "      <td>1.497409e+09</td>\n",
       "      <td>1.465803e+09</td>\n",
       "      <td>1.380323e+09</td>\n",
       "      <td>1.376011e+09</td>\n",
       "    </tr>\n",
       "  </tbody>\n",
       "</table>\n",
       "<p>160 rows × 4 columns</p>\n",
       "</div>"
      ],
      "text/plain": [
       "            total_vaccinations  Vaccinations_LastDay  \\\n",
       "date                                                   \n",
       "2020-12-09        5.000000e+00          4.000000e+00   \n",
       "2020-12-10        6.000000e+00          5.000000e+00   \n",
       "2020-12-11        6.000000e+00          6.000000e+00   \n",
       "2020-12-12        6.000000e+00          6.000000e+00   \n",
       "2020-12-13        6.000000e+00          6.000000e+00   \n",
       "...                        ...                   ...   \n",
       "2021-05-13        1.394810e+09          1.351184e+09   \n",
       "2021-05-14        1.376011e+09          1.394810e+09   \n",
       "2021-05-15        1.380323e+09          1.376011e+09   \n",
       "2021-05-16        1.465803e+09          1.380323e+09   \n",
       "2021-05-17        1.497409e+09          1.465803e+09   \n",
       "\n",
       "            Vaccinations_SecondLastDay  Vaccinations_ThirdLastDay  \n",
       "date                                                               \n",
       "2020-12-09                4.000000e+00               2.000000e+00  \n",
       "2020-12-10                4.000000e+00               4.000000e+00  \n",
       "2020-12-11                5.000000e+00               4.000000e+00  \n",
       "2020-12-12                6.000000e+00               5.000000e+00  \n",
       "2020-12-13                6.000000e+00               6.000000e+00  \n",
       "...                                ...                        ...  \n",
       "2021-05-13                1.365232e+09               1.288478e+09  \n",
       "2021-05-14                1.351184e+09               1.365232e+09  \n",
       "2021-05-15                1.394810e+09               1.351184e+09  \n",
       "2021-05-16                1.376011e+09               1.394810e+09  \n",
       "2021-05-17                1.380323e+09               1.376011e+09  \n",
       "\n",
       "[160 rows x 4 columns]"
      ]
     },
     "execution_count": 42,
     "metadata": {},
     "output_type": "execute_result"
    }
   ],
   "source": [
    "timeseries=timeseries.dropna()\n",
    "timeseries"
   ]
  },
  {
   "cell_type": "markdown",
   "metadata": {},
   "source": [
    "### Importing Models"
   ]
  },
  {
   "cell_type": "code",
   "execution_count": 43,
   "metadata": {},
   "outputs": [],
   "source": [
    "from sklearn.linear_model import LinearRegression\n",
    "lin_model=LinearRegression()"
   ]
  },
  {
   "cell_type": "code",
   "execution_count": 44,
   "metadata": {},
   "outputs": [],
   "source": [
    "from sklearn.ensemble import RandomForestRegressor\n",
    "RF_model=RandomForestRegressor(n_estimators=100,max_features=3, random_state=1)"
   ]
  },
  {
   "cell_type": "markdown",
   "metadata": {},
   "source": [
    "### Taking previous 3 values in the timestamp of x as 3 features\n",
    "### x1,x2 & x3 are considered as inputs\n",
    "### y as output"
   ]
  },
  {
   "cell_type": "code",
   "execution_count": 45,
   "metadata": {},
   "outputs": [
    {
     "data": {
      "text/plain": [
       "array([[4.00000000e+00, 4.00000000e+00, 2.00000000e+00],\n",
       "       [5.00000000e+00, 4.00000000e+00, 4.00000000e+00],\n",
       "       [6.00000000e+00, 5.00000000e+00, 4.00000000e+00],\n",
       "       [6.00000000e+00, 6.00000000e+00, 5.00000000e+00],\n",
       "       [6.00000000e+00, 6.00000000e+00, 6.00000000e+00],\n",
       "       [6.00000000e+00, 6.00000000e+00, 6.00000000e+00],\n",
       "       [1.10000000e+01, 6.00000000e+00, 6.00000000e+00],\n",
       "       [1.52922900e+06, 1.10000000e+01, 6.00000000e+00],\n",
       "       [3.02900000e+03, 1.52922900e+06, 1.10000000e+01],\n",
       "       [7.20800000e+03, 3.02900000e+03, 1.52922900e+06],\n",
       "       [1.11800000e+04, 7.20800000e+03, 3.02900000e+03],\n",
       "       [1.19610000e+04, 1.11800000e+04, 7.20800000e+03],\n",
       "       [5.76372000e+05, 1.19610000e+04, 1.11800000e+04],\n",
       "       [6.67292000e+05, 5.76372000e+05, 1.19610000e+04],\n",
       "       [1.55530000e+05, 6.67292000e+05, 5.76372000e+05],\n",
       "       [1.22184400e+06, 1.55530000e+05, 6.67292000e+05],\n",
       "       [3.11955000e+05, 1.22184400e+06, 1.55530000e+05],\n",
       "       [3.52672000e+05, 3.11955000e+05, 1.22184400e+06],\n",
       "       [2.33700100e+06, 3.52672000e+05, 3.11955000e+05],\n",
       "       [5.66320000e+05, 2.33700100e+06, 3.52672000e+05],\n",
       "       [2.88077500e+06, 5.66320000e+05, 2.33700100e+06],\n",
       "       [1.02409000e+06, 2.88077500e+06, 5.66320000e+05],\n",
       "       [4.14397600e+06, 1.02409000e+06, 2.88077500e+06],\n",
       "       [6.11926200e+06, 4.14397600e+06, 1.02409000e+06],\n",
       "       [1.64174500e+06, 6.11926200e+06, 4.14397600e+06],\n",
       "       [6.90133700e+06, 1.64174500e+06, 6.11926200e+06],\n",
       "       [4.94693000e+06, 6.90133700e+06, 1.64174500e+06],\n",
       "       [7.22138600e+06, 4.94693000e+06, 6.90133700e+06],\n",
       "       [8.76620000e+06, 7.22138600e+06, 4.94693000e+06],\n",
       "       [9.58855900e+06, 8.76620000e+06, 7.22138600e+06],\n",
       "       [1.10253020e+07, 9.58855900e+06, 8.76620000e+06],\n",
       "       [1.22723620e+07, 1.10253020e+07, 9.58855900e+06],\n",
       "       [1.45380520e+07, 1.22723620e+07, 1.10253020e+07],\n",
       "       [1.13310150e+07, 1.45380520e+07, 1.22723620e+07],\n",
       "       [2.16053310e+07, 1.13310150e+07, 1.45380520e+07],\n",
       "       [2.29011610e+07, 2.16053310e+07, 1.13310150e+07],\n",
       "       [3.65345170e+07, 2.29011610e+07, 2.16053310e+07],\n",
       "       [2.80862050e+07, 3.65345170e+07, 2.29011610e+07],\n",
       "       [3.11796960e+07, 2.80862050e+07, 3.65345170e+07],\n",
       "       [1.92386400e+07, 3.11796960e+07, 2.80862050e+07],\n",
       "       [2.06911470e+07, 1.92386400e+07, 3.11796960e+07],\n",
       "       [2.26384820e+07, 2.06911470e+07, 1.92386400e+07],\n",
       "       [4.03544330e+07, 2.26384820e+07, 2.06911470e+07],\n",
       "       [5.84925260e+07, 4.03544330e+07, 2.26384820e+07],\n",
       "       [4.66998450e+07, 5.84925260e+07, 4.03544330e+07],\n",
       "       [5.09230780e+07, 4.66998450e+07, 5.84925260e+07],\n",
       "       [5.29365730e+07, 5.09230780e+07, 4.66998450e+07],\n",
       "       [5.71872500e+07, 5.29365730e+07, 5.09230780e+07],\n",
       "       [5.99966530e+07, 5.71872500e+07, 5.29365730e+07],\n",
       "       [6.27444610e+07, 5.99966530e+07, 5.71872500e+07],\n",
       "       [8.93272410e+07, 6.27444610e+07, 5.99966530e+07],\n",
       "       [7.09011770e+07, 8.93272410e+07, 6.27444610e+07],\n",
       "       [7.45100690e+07, 7.09011770e+07, 8.93272410e+07],\n",
       "       [7.83493800e+07, 7.45100690e+07, 7.09011770e+07],\n",
       "       [1.06731416e+08, 7.83493800e+07, 7.45100690e+07],\n",
       "       [8.63509370e+07, 1.06731416e+08, 7.83493800e+07],\n",
       "       [8.88454990e+07, 8.63509370e+07, 1.06731416e+08],\n",
       "       [1.24483764e+08, 8.88454990e+07, 8.63509370e+07],\n",
       "       [9.84849690e+07, 1.24483764e+08, 8.88454990e+07],\n",
       "       [1.00757861e+08, 9.84849690e+07, 1.24483764e+08],\n",
       "       [1.05001769e+08, 1.00757861e+08, 9.84849690e+07],\n",
       "       [1.11797600e+08, 1.05001769e+08, 1.00757861e+08],\n",
       "       [1.12745405e+08, 1.11797600e+08, 1.05001769e+08],\n",
       "       [1.58115388e+08, 1.12745405e+08, 1.11797600e+08],\n",
       "       [1.22457184e+08, 1.58115388e+08, 1.12745405e+08],\n",
       "       [1.28862978e+08, 1.22457184e+08, 1.58115388e+08],\n",
       "       [1.31265439e+08, 1.28862978e+08, 1.22457184e+08],\n",
       "       [1.37735670e+08, 1.31265439e+08, 1.28862978e+08],\n",
       "       [1.35900965e+08, 1.37735670e+08, 1.31265439e+08],\n",
       "       [9.46027580e+07, 1.35900965e+08, 1.37735670e+08],\n",
       "       [1.53702860e+08, 9.46027580e+07, 1.35900965e+08],\n",
       "       [1.58634061e+08, 1.53702860e+08, 9.46027580e+07],\n",
       "       [1.66097578e+08, 1.58634061e+08, 1.53702860e+08],\n",
       "       [1.64216788e+08, 1.66097578e+08, 1.58634061e+08],\n",
       "       [1.72287520e+08, 1.64216788e+08, 1.66097578e+08],\n",
       "       [1.73578857e+08, 1.72287520e+08, 1.64216788e+08],\n",
       "       [1.80370412e+08, 1.73578857e+08, 1.72287520e+08],\n",
       "       [1.85177345e+08, 1.80370412e+08, 1.73578857e+08],\n",
       "       [1.94780436e+08, 1.85177345e+08, 1.80370412e+08],\n",
       "       [1.98151651e+08, 1.94780436e+08, 1.85177345e+08],\n",
       "       [2.01505521e+08, 1.98151651e+08, 1.94780436e+08],\n",
       "       [2.06116685e+08, 2.01505521e+08, 1.98151651e+08],\n",
       "       [2.68260967e+08, 2.06116685e+08, 2.01505521e+08],\n",
       "       [2.17477692e+08, 2.68260967e+08, 2.06116685e+08],\n",
       "       [2.30664992e+08, 2.17477692e+08, 2.68260967e+08],\n",
       "       [2.38724717e+08, 2.30664992e+08, 2.17477692e+08],\n",
       "       [2.48450391e+08, 2.38724717e+08, 2.30664992e+08],\n",
       "       [2.47823767e+08, 2.48450391e+08, 2.38724717e+08],\n",
       "       [2.42910537e+08, 2.47823767e+08, 2.48450391e+08],\n",
       "       [2.55340527e+08, 2.42910537e+08, 2.47823767e+08],\n",
       "       [2.62992095e+08, 2.55340527e+08, 2.42910537e+08],\n",
       "       [2.72572132e+08, 2.62992095e+08, 2.55340527e+08],\n",
       "       [2.88278203e+08, 2.72572132e+08, 2.62992095e+08],\n",
       "       [3.04005265e+08, 2.88278203e+08, 2.72572132e+08],\n",
       "       [2.96961706e+08, 3.04005265e+08, 2.88278203e+08],\n",
       "       [3.06669382e+08, 2.96961706e+08, 3.04005265e+08],\n",
       "       [3.75828704e+08, 3.06669382e+08, 2.96961706e+08],\n",
       "       [3.27578773e+08, 3.75828704e+08, 3.06669382e+08],\n",
       "       [3.26886004e+08, 3.27578773e+08, 3.75828704e+08],\n",
       "       [3.52238052e+08, 3.26886004e+08, 3.27578773e+08],\n",
       "       [3.60446660e+08, 3.52238052e+08, 3.26886004e+08],\n",
       "       [3.69213384e+08, 3.60446660e+08, 3.52238052e+08],\n",
       "       [4.57155273e+08, 3.69213384e+08, 3.60446660e+08],\n",
       "       [3.79148328e+08, 4.57155273e+08, 3.69213384e+08],\n",
       "       [4.78428571e+08, 3.79148328e+08, 4.57155273e+08],\n",
       "       [4.87017449e+08, 4.78428571e+08, 3.79148328e+08],\n",
       "       [4.95585729e+08, 4.87017449e+08, 4.78428571e+08],\n",
       "       [5.12023946e+08, 4.95585729e+08, 4.87017449e+08],\n",
       "       [5.34013135e+08, 5.12023946e+08, 4.95585729e+08],\n",
       "       [5.34245636e+08, 5.34013135e+08, 5.12023946e+08],\n",
       "       [5.31457629e+08, 5.34245636e+08, 5.34013135e+08],\n",
       "       [5.69529915e+08, 5.31457629e+08, 5.34245636e+08],\n",
       "       [5.87486080e+08, 5.69529915e+08, 5.31457629e+08],\n",
       "       [6.22789097e+08, 5.87486080e+08, 5.69529915e+08],\n",
       "       [6.15447057e+08, 6.22789097e+08, 5.87486080e+08],\n",
       "       [6.48223369e+08, 6.15447057e+08, 6.22789097e+08],\n",
       "       [6.53267435e+08, 6.48223369e+08, 6.15447057e+08],\n",
       "       [6.72467322e+08, 6.53267435e+08, 6.48223369e+08],\n",
       "       [6.90425138e+08, 6.72467322e+08, 6.53267435e+08],\n",
       "       [7.08026050e+08, 6.90425138e+08, 6.72467322e+08],\n",
       "       [7.24494313e+08, 7.08026050e+08, 6.90425138e+08],\n",
       "       [7.57700124e+08, 7.24494313e+08, 7.08026050e+08],\n",
       "       [7.54929575e+08, 7.57700124e+08, 7.24494313e+08],\n",
       "       [7.85537559e+08, 7.54929575e+08, 7.57700124e+08],\n",
       "       [7.80628519e+08, 7.85537559e+08, 7.54929575e+08],\n",
       "       [8.18505139e+08, 7.80628519e+08, 7.85537559e+08],\n",
       "       [8.40849361e+08, 8.18505139e+08, 7.80628519e+08],\n",
       "       [8.51423149e+08, 8.40849361e+08, 8.18505139e+08],\n",
       "       [8.44561385e+08, 8.51423149e+08, 8.40849361e+08],\n",
       "       [8.33376273e+08, 8.44561385e+08, 8.51423149e+08],\n",
       "       [8.52768095e+08, 8.33376273e+08, 8.44561385e+08],\n",
       "       [8.89113735e+08, 8.52768095e+08, 8.33376273e+08],\n",
       "       [9.35318714e+08, 8.89113735e+08, 8.52768095e+08],\n",
       "       [8.18109340e+08, 9.35318714e+08, 8.89113735e+08],\n",
       "       [9.68193070e+08, 8.18109340e+08, 9.35318714e+08],\n",
       "       [9.95997471e+08, 9.68193070e+08, 8.18109340e+08],\n",
       "       [8.72322448e+08, 9.95997471e+08, 9.68193070e+08],\n",
       "       [8.21659182e+08, 8.72322448e+08, 9.95997471e+08],\n",
       "       [1.03990768e+09, 8.21659182e+08, 8.72322448e+08],\n",
       "       [1.05126178e+09, 1.03990768e+09, 8.21659182e+08],\n",
       "       [1.06763671e+09, 1.05126178e+09, 1.03990768e+09],\n",
       "       [1.10866483e+09, 1.06763671e+09, 1.05126178e+09],\n",
       "       [1.11745962e+09, 1.10866483e+09, 1.06763671e+09],\n",
       "       [1.10629070e+09, 1.11745962e+09, 1.10866483e+09],\n",
       "       [1.12321106e+09, 1.10629070e+09, 1.11745962e+09],\n",
       "       [1.16157240e+09, 1.12321106e+09, 1.10629070e+09],\n",
       "       [1.16364421e+09, 1.16157240e+09, 1.12321106e+09],\n",
       "       [1.20038491e+09, 1.16364421e+09, 1.16157240e+09],\n",
       "       [1.21393686e+09, 1.20038491e+09, 1.16364421e+09],\n",
       "       [1.24509040e+09, 1.21393686e+09, 1.20038491e+09],\n",
       "       [1.26333572e+09, 1.24509040e+09, 1.21393686e+09],\n",
       "       [1.20308657e+09, 1.26333572e+09, 1.24509040e+09],\n",
       "       [1.23322557e+09, 1.20308657e+09, 1.26333572e+09],\n",
       "       [1.28847760e+09, 1.23322557e+09, 1.20308657e+09],\n",
       "       [1.36523231e+09, 1.28847760e+09, 1.23322557e+09],\n",
       "       [1.35118362e+09, 1.36523231e+09, 1.28847760e+09],\n",
       "       [1.39480975e+09, 1.35118362e+09, 1.36523231e+09],\n",
       "       [1.37601105e+09, 1.39480975e+09, 1.35118362e+09],\n",
       "       [1.38032332e+09, 1.37601105e+09, 1.39480975e+09],\n",
       "       [1.46580324e+09, 1.38032332e+09, 1.37601105e+09]])"
      ]
     },
     "execution_count": 45,
     "metadata": {},
     "output_type": "execute_result"
    }
   ],
   "source": [
    "import numpy as np\n",
    "x1,x2,x3,y=timeseries['Vaccinations_LastDay'],timeseries['Vaccinations_SecondLastDay'],timeseries['Vaccinations_ThirdLastDay'],timeseries['total_vaccinations']\n",
    "x1,x2,x3=np.array(x1),np.array(x2),np.array(x3)#,np.array(y)\n",
    "x1,x2,x3=x1.reshape(-1,1),x2.reshape(-1,1),x3.reshape(-1,1)#,y.reshape(-1,1)\n",
    "final_x=np.concatenate((x1,x2,x3),axis=1)\n",
    "final_x"
   ]
  },
  {
   "cell_type": "code",
   "execution_count": 46,
   "metadata": {},
   "outputs": [
    {
     "data": {
      "text/html": [
       "<div>\n",
       "<style scoped>\n",
       "    .dataframe tbody tr th:only-of-type {\n",
       "        vertical-align: middle;\n",
       "    }\n",
       "\n",
       "    .dataframe tbody tr th {\n",
       "        vertical-align: top;\n",
       "    }\n",
       "\n",
       "    .dataframe thead th {\n",
       "        text-align: right;\n",
       "    }\n",
       "</style>\n",
       "<table border=\"1\" class=\"dataframe\">\n",
       "  <thead>\n",
       "    <tr style=\"text-align: right;\">\n",
       "      <th></th>\n",
       "      <th>total_vaccinations</th>\n",
       "    </tr>\n",
       "    <tr>\n",
       "      <th>date</th>\n",
       "      <th></th>\n",
       "    </tr>\n",
       "  </thead>\n",
       "  <tbody>\n",
       "    <tr>\n",
       "      <th>2020-12-09</th>\n",
       "      <td>5.000000e+00</td>\n",
       "    </tr>\n",
       "    <tr>\n",
       "      <th>2020-12-10</th>\n",
       "      <td>6.000000e+00</td>\n",
       "    </tr>\n",
       "    <tr>\n",
       "      <th>2020-12-11</th>\n",
       "      <td>6.000000e+00</td>\n",
       "    </tr>\n",
       "    <tr>\n",
       "      <th>2020-12-12</th>\n",
       "      <td>6.000000e+00</td>\n",
       "    </tr>\n",
       "    <tr>\n",
       "      <th>2020-12-13</th>\n",
       "      <td>6.000000e+00</td>\n",
       "    </tr>\n",
       "    <tr>\n",
       "      <th>...</th>\n",
       "      <td>...</td>\n",
       "    </tr>\n",
       "    <tr>\n",
       "      <th>2021-05-13</th>\n",
       "      <td>1.394810e+09</td>\n",
       "    </tr>\n",
       "    <tr>\n",
       "      <th>2021-05-14</th>\n",
       "      <td>1.376011e+09</td>\n",
       "    </tr>\n",
       "    <tr>\n",
       "      <th>2021-05-15</th>\n",
       "      <td>1.380323e+09</td>\n",
       "    </tr>\n",
       "    <tr>\n",
       "      <th>2021-05-16</th>\n",
       "      <td>1.465803e+09</td>\n",
       "    </tr>\n",
       "    <tr>\n",
       "      <th>2021-05-17</th>\n",
       "      <td>1.497409e+09</td>\n",
       "    </tr>\n",
       "  </tbody>\n",
       "</table>\n",
       "<p>160 rows × 1 columns</p>\n",
       "</div>"
      ],
      "text/plain": [
       "            total_vaccinations\n",
       "date                          \n",
       "2020-12-09        5.000000e+00\n",
       "2020-12-10        6.000000e+00\n",
       "2020-12-11        6.000000e+00\n",
       "2020-12-12        6.000000e+00\n",
       "2020-12-13        6.000000e+00\n",
       "...                        ...\n",
       "2021-05-13        1.394810e+09\n",
       "2021-05-14        1.376011e+09\n",
       "2021-05-15        1.380323e+09\n",
       "2021-05-16        1.465803e+09\n",
       "2021-05-17        1.497409e+09\n",
       "\n",
       "[160 rows x 1 columns]"
      ]
     },
     "execution_count": 46,
     "metadata": {},
     "output_type": "execute_result"
    }
   ],
   "source": [
    "y = pd.DataFrame(y)\n",
    "y"
   ]
  },
  {
   "cell_type": "markdown",
   "metadata": {},
   "source": [
    "## Splitting data for training and testing"
   ]
  },
  {
   "cell_type": "code",
   "execution_count": 47,
   "metadata": {},
   "outputs": [],
   "source": [
    "X_train,X_test,y_train,y_test=final_x[:],final_x[:],y[:],y[:]"
   ]
  },
  {
   "cell_type": "code",
   "execution_count": 48,
   "metadata": {},
   "outputs": [
    {
     "data": {
      "text/plain": [
       "LinearRegression()"
      ]
     },
     "execution_count": 48,
     "metadata": {},
     "output_type": "execute_result"
    }
   ],
   "source": [
    "RF_model.fit(X_train,y_train)\n",
    "lin_model.fit(X_train,y_train)"
   ]
  },
  {
   "cell_type": "markdown",
   "metadata": {},
   "source": [
    "## Random Forest Model"
   ]
  },
  {
   "cell_type": "code",
   "execution_count": 49,
   "metadata": {},
   "outputs": [
    {
     "data": {
      "text/html": [
       "<div>\n",
       "<style scoped>\n",
       "    .dataframe tbody tr th:only-of-type {\n",
       "        vertical-align: middle;\n",
       "    }\n",
       "\n",
       "    .dataframe tbody tr th {\n",
       "        vertical-align: top;\n",
       "    }\n",
       "\n",
       "    .dataframe thead th {\n",
       "        text-align: right;\n",
       "    }\n",
       "</style>\n",
       "<table border=\"1\" class=\"dataframe\">\n",
       "  <thead>\n",
       "    <tr style=\"text-align: right;\">\n",
       "      <th></th>\n",
       "      <th>Predictions</th>\n",
       "    </tr>\n",
       "    <tr>\n",
       "      <th>idx</th>\n",
       "      <th></th>\n",
       "    </tr>\n",
       "  </thead>\n",
       "  <tbody>\n",
       "    <tr>\n",
       "      <th>2020-12-09</th>\n",
       "      <td>5.370000e+00</td>\n",
       "    </tr>\n",
       "    <tr>\n",
       "      <th>2020-12-10</th>\n",
       "      <td>5.890000e+00</td>\n",
       "    </tr>\n",
       "    <tr>\n",
       "      <th>2020-12-11</th>\n",
       "      <td>5.995000e+00</td>\n",
       "    </tr>\n",
       "    <tr>\n",
       "      <th>2020-12-12</th>\n",
       "      <td>6.117535e+04</td>\n",
       "    </tr>\n",
       "    <tr>\n",
       "      <th>2020-12-13</th>\n",
       "      <td>1.070542e+05</td>\n",
       "    </tr>\n",
       "    <tr>\n",
       "      <th>...</th>\n",
       "      <td>...</td>\n",
       "    </tr>\n",
       "    <tr>\n",
       "      <th>2021-05-13</th>\n",
       "      <td>1.389425e+09</td>\n",
       "    </tr>\n",
       "    <tr>\n",
       "      <th>2021-05-14</th>\n",
       "      <td>1.398698e+09</td>\n",
       "    </tr>\n",
       "    <tr>\n",
       "      <th>2021-05-15</th>\n",
       "      <td>1.403129e+09</td>\n",
       "    </tr>\n",
       "    <tr>\n",
       "      <th>2021-05-16</th>\n",
       "      <td>1.451889e+09</td>\n",
       "    </tr>\n",
       "    <tr>\n",
       "      <th>2021-05-17</th>\n",
       "      <td>1.468902e+09</td>\n",
       "    </tr>\n",
       "  </tbody>\n",
       "</table>\n",
       "<p>160 rows × 1 columns</p>\n",
       "</div>"
      ],
      "text/plain": [
       "             Predictions\n",
       "idx                     \n",
       "2020-12-09  5.370000e+00\n",
       "2020-12-10  5.890000e+00\n",
       "2020-12-11  5.995000e+00\n",
       "2020-12-12  6.117535e+04\n",
       "2020-12-13  1.070542e+05\n",
       "...                  ...\n",
       "2021-05-13  1.389425e+09\n",
       "2021-05-14  1.398698e+09\n",
       "2021-05-15  1.403129e+09\n",
       "2021-05-16  1.451889e+09\n",
       "2021-05-17  1.468902e+09\n",
       "\n",
       "[160 rows x 1 columns]"
      ]
     },
     "execution_count": 49,
     "metadata": {},
     "output_type": "execute_result"
    }
   ],
   "source": [
    "#Random Forest\n",
    "#Preparing dataframe for the whole timeperiod with time as index and Predictions as one column.\n",
    "rf_pred=RF_model.predict(X_test)\n",
    "rf_list_pred = []\n",
    "for item in rf_pred:\n",
    "    rf_list_pred.append(item)\n",
    "rf_list_pred\n",
    "#Creating dataframe with columns index,predicted values for plotting\n",
    "index_future_dates=pd.date_range(start='2020-12-09',end='2021-05-17')\n",
    "#print(index_future_dates)\n",
    "data = {'idx':index_future_dates,\n",
    "        'Predictions':rf_list_pred}\n",
    "rf_pred_df = pd.DataFrame(data)\n",
    "rf_pred_df.set_index('idx',inplace = True)\n",
    "rf_pred_df"
   ]
  },
  {
   "cell_type": "code",
   "execution_count": 50,
   "metadata": {},
   "outputs": [
    {
     "data": {
      "image/png": "[encoded data removed]",
      "text/plain": [
       "<Figure size 864x576 with 1 Axes>"
      ]
     },
     "metadata": {
      "needs_background": "light"
     },
     "output_type": "display_data"
    }
   ],
   "source": [
    "#Plot random forest predictions\n",
    "import matplotlib.pyplot as plt\n",
    "plt.rcParams[\"figure.figsize\"] = (12,8)\n",
    "plt.plot(y,label='Actual Total Vaccinations')\n",
    "plt.plot(rf_pred_df,label='Random_Forest_Total_Vaccinations_Predictions')\n",
    "plt.legend(loc=\"upper left\")\n",
    "plt.show()"
   ]
  },
  {
   "cell_type": "markdown",
   "metadata": {},
   "source": [
    "## Linear Regression Model"
   ]
  },
  {
   "cell_type": "code",
   "execution_count": 51,
   "metadata": {},
   "outputs": [
    {
     "data": {
      "text/html": [
       "<div>\n",
       "<style scoped>\n",
       "    .dataframe tbody tr th:only-of-type {\n",
       "        vertical-align: middle;\n",
       "    }\n",
       "\n",
       "    .dataframe tbody tr th {\n",
       "        vertical-align: top;\n",
       "    }\n",
       "\n",
       "    .dataframe thead th {\n",
       "        text-align: right;\n",
       "    }\n",
       "</style>\n",
       "<table border=\"1\" class=\"dataframe\">\n",
       "  <thead>\n",
       "    <tr style=\"text-align: right;\">\n",
       "      <th></th>\n",
       "      <th>Predictions</th>\n",
       "    </tr>\n",
       "    <tr>\n",
       "      <th>idx</th>\n",
       "      <th></th>\n",
       "    </tr>\n",
       "  </thead>\n",
       "  <tbody>\n",
       "    <tr>\n",
       "      <th>2020-12-09</th>\n",
       "      <td>5.244851e+06</td>\n",
       "    </tr>\n",
       "    <tr>\n",
       "      <th>2020-12-10</th>\n",
       "      <td>5.244852e+06</td>\n",
       "    </tr>\n",
       "    <tr>\n",
       "      <th>2020-12-11</th>\n",
       "      <td>5.244853e+06</td>\n",
       "    </tr>\n",
       "    <tr>\n",
       "      <th>2020-12-12</th>\n",
       "      <td>5.244853e+06</td>\n",
       "    </tr>\n",
       "    <tr>\n",
       "      <th>2020-12-13</th>\n",
       "      <td>5.244854e+06</td>\n",
       "    </tr>\n",
       "    <tr>\n",
       "      <th>...</th>\n",
       "      <td>...</td>\n",
       "    </tr>\n",
       "    <tr>\n",
       "      <th>2021-05-13</th>\n",
       "      <td>1.371823e+09</td>\n",
       "    </tr>\n",
       "    <tr>\n",
       "      <th>2021-05-14</th>\n",
       "      <td>1.428781e+09</td>\n",
       "    </tr>\n",
       "    <tr>\n",
       "      <th>2021-05-15</th>\n",
       "      <td>1.414325e+09</td>\n",
       "    </tr>\n",
       "    <tr>\n",
       "      <th>2021-05-16</th>\n",
       "      <td>1.435034e+09</td>\n",
       "    </tr>\n",
       "    <tr>\n",
       "      <th>2021-05-17</th>\n",
       "      <td>1.473578e+09</td>\n",
       "    </tr>\n",
       "  </tbody>\n",
       "</table>\n",
       "<p>160 rows × 1 columns</p>\n",
       "</div>"
      ],
      "text/plain": [
       "             Predictions\n",
       "idx                     \n",
       "2020-12-09  5.244851e+06\n",
       "2020-12-10  5.244852e+06\n",
       "2020-12-11  5.244853e+06\n",
       "2020-12-12  5.244853e+06\n",
       "2020-12-13  5.244854e+06\n",
       "...                  ...\n",
       "2021-05-13  1.371823e+09\n",
       "2021-05-14  1.428781e+09\n",
       "2021-05-15  1.414325e+09\n",
       "2021-05-16  1.435034e+09\n",
       "2021-05-17  1.473578e+09\n",
       "\n",
       "[160 rows x 1 columns]"
      ]
     },
     "execution_count": 51,
     "metadata": {},
     "output_type": "execute_result"
    }
   ],
   "source": [
    "#Linear model starts\n",
    "#Preparing dataframe for the whole timeperiod with time as index and Predictions as one column.\n",
    "lin_pred=lin_model.predict(X_test)\n",
    "lin_pred\n",
    "lin_list_pred = []\n",
    "for item in lin_pred:\n",
    "    lin_list_pred.append(item[0])\n",
    "lin_list_pred\n",
    "#Creating dataframe with columns index,predicted values for plotting\n",
    "index_future_dates=pd.date_range(start='2020-12-09',end='2021-05-17')\n",
    "#print(index_future_dates)\n",
    "data = {'idx':index_future_dates,\n",
    "        'Predictions':lin_list_pred}\n",
    "lin_pred_df = pd.DataFrame(data)\n",
    "lin_pred_df.set_index('idx',inplace = True)\n",
    "lin_pred_df"
   ]
  },
  {
   "cell_type": "code",
   "execution_count": 52,
   "metadata": {},
   "outputs": [
    {
     "data": {
      "image/png": "[encoded data removed]",
      "text/plain": [
       "<Figure size 792x432 with 1 Axes>"
      ]
     },
     "metadata": {
      "needs_background": "light"
     },
     "output_type": "display_data"
    }
   ],
   "source": [
    "import matplotlib.pyplot as plt\n",
    "plt.rcParams[\"figure.figsize\"] = (11,6)\n",
    "plt.plot(y,label='Actual Total Vaccinations')\n",
    "plt.plot(lin_pred_df,label='Linear_Regression_Total_Vaccination_Predictions')\n",
    "plt.legend(loc=\"upper left\")\n",
    "plt.show()"
   ]
  },
  {
   "cell_type": "markdown",
   "metadata": {},
   "source": [
    "## Prediction Accuracy for both Models"
   ]
  },
  {
   "cell_type": "code",
   "execution_count": 53,
   "metadata": {},
   "outputs": [],
   "source": [
    "from sklearn.metrics import mean_squared_error\n",
    "from math import sqrt\n",
    "rmse_rf=sqrt(mean_squared_error(rf_pred,y_test))\n",
    "rmse_lr=sqrt(mean_squared_error(lin_pred,y_test))"
   ]
  },
  {
   "cell_type": "code",
   "execution_count": 54,
   "metadata": {},
   "outputs": [
    {
     "name": "stdout",
     "output_type": "stream",
     "text": [
      "Mean Squared Error for Random Forest Model is: 14467627.274273073\n",
      "Mean Squared Error for Linear Regression Model is: 28796900.131337088\n"
     ]
    }
   ],
   "source": [
    "print('Mean Squared Error for Random Forest Model is:',rmse_rf)\n",
    "print('Mean Squared Error for Linear Regression Model is:',rmse_lr)"
   ]
  },
  {
   "cell_type": "markdown",
   "metadata": {},
   "source": [
    "## Forecasting for both models"
   ]
  },
  {
   "cell_type": "markdown",
   "metadata": {},
   "source": [
    "### Linear Model forecasting for next 1 month"
   ]
  },
  {
   "cell_type": "code",
   "execution_count": 55,
   "metadata": {},
   "outputs": [
    {
     "data": {
      "text/plain": [
       "[1521054478.3597064,\n",
       " 1552011159.4396443,\n",
       " 1580467528.7311969,\n",
       " 1607811596.7429724,\n",
       " 1637654615.1523824,\n",
       " 1667709032.9508324,\n",
       " 1697502669.607283,\n",
       " 1728264154.4974332,\n",
       " 1759634795.810083,\n",
       " 1791266921.6366906,\n",
       " 1823495619.84092,\n",
       " 1856329887.6153955,\n",
       " 1889636777.8261423,\n",
       " 1923491745.7290282,\n",
       " 1957933860.9974637,\n",
       " 1992929322.5976377,\n",
       " 2028494699.926229,\n",
       " 2064654697.950035,\n",
       " 2101408661.4617953,\n",
       " 2138764654.2245674,\n",
       " 2176737924.3874216,\n",
       " 2215336867.808509,\n",
       " 2254570309.240037,\n",
       " 2294450159.330958,\n",
       " 2334987013.934309,\n",
       " 2376191081.048262,\n",
       " 2418073656.218025,\n",
       " 2460646031.5557475,\n",
       " 2503919375.997789,\n",
       " 2547905270.0639606]"
      ]
     },
     "execution_count": 55,
     "metadata": {},
     "output_type": "execute_result"
    }
   ],
   "source": [
    "#Linear model next 30 days predictions\n",
    "next30_pred_lin = []\n",
    "last = timeseries['total_vaccinations'][-1]\n",
    "secondLast = lin_pred[-1]\n",
    "thirdLast = lin_pred[-2]\n",
    "arr = np.array([last,secondLast,thirdLast])\n",
    "arr_2d=arr.reshape(1, -1)\n",
    "for i in range(30):\n",
    "    #print(arr)\n",
    "    curr_pred_val = lin_model.predict(arr_2d)\n",
    "    next30_pred_lin.append(curr_pred_val[0][0])\n",
    "    thirdLast = secondLast\n",
    "    secondLast = last\n",
    "    last = curr_pred_val[0]\n",
    "    arr = np.array([last,secondLast,thirdLast])\n",
    "    arr_2d=arr.reshape(1, -1)\n",
    "next30_pred_lin"
   ]
  },
  {
   "cell_type": "code",
   "execution_count": 56,
   "metadata": {},
   "outputs": [
    {
     "name": "stdout",
     "output_type": "stream",
     "text": [
      "DatetimeIndex(['2021-05-17', '2021-05-18', '2021-05-19', '2021-05-20',\n",
      "               '2021-05-21', '2021-05-22', '2021-05-23', '2021-05-24',\n",
      "               '2021-05-25', '2021-05-26', '2021-05-27', '2021-05-28',\n",
      "               '2021-05-29', '2021-05-30', '2021-05-31', '2021-06-01',\n",
      "               '2021-06-02', '2021-06-03', '2021-06-04', '2021-06-05',\n",
      "               '2021-06-06', '2021-06-07', '2021-06-08', '2021-06-09',\n",
      "               '2021-06-10', '2021-06-11', '2021-06-12', '2021-06-13',\n",
      "               '2021-06-14', '2021-06-15'],\n",
      "              dtype='datetime64[ns]', freq='D')\n"
     ]
    },
    {
     "data": {
      "text/html": [
       "<div>\n",
       "<style scoped>\n",
       "    .dataframe tbody tr th:only-of-type {\n",
       "        vertical-align: middle;\n",
       "    }\n",
       "\n",
       "    .dataframe tbody tr th {\n",
       "        vertical-align: top;\n",
       "    }\n",
       "\n",
       "    .dataframe thead th {\n",
       "        text-align: right;\n",
       "    }\n",
       "</style>\n",
       "<table border=\"1\" class=\"dataframe\">\n",
       "  <thead>\n",
       "    <tr style=\"text-align: right;\">\n",
       "      <th></th>\n",
       "      <th>Predictions</th>\n",
       "    </tr>\n",
       "    <tr>\n",
       "      <th>idx</th>\n",
       "      <th></th>\n",
       "    </tr>\n",
       "  </thead>\n",
       "  <tbody>\n",
       "    <tr>\n",
       "      <th>2021-05-17</th>\n",
       "      <td>1.521054e+09</td>\n",
       "    </tr>\n",
       "    <tr>\n",
       "      <th>2021-05-18</th>\n",
       "      <td>1.552011e+09</td>\n",
       "    </tr>\n",
       "    <tr>\n",
       "      <th>2021-05-19</th>\n",
       "      <td>1.580468e+09</td>\n",
       "    </tr>\n",
       "    <tr>\n",
       "      <th>2021-05-20</th>\n",
       "      <td>1.607812e+09</td>\n",
       "    </tr>\n",
       "    <tr>\n",
       "      <th>2021-05-21</th>\n",
       "      <td>1.637655e+09</td>\n",
       "    </tr>\n",
       "    <tr>\n",
       "      <th>2021-05-22</th>\n",
       "      <td>1.667709e+09</td>\n",
       "    </tr>\n",
       "    <tr>\n",
       "      <th>2021-05-23</th>\n",
       "      <td>1.697503e+09</td>\n",
       "    </tr>\n",
       "    <tr>\n",
       "      <th>2021-05-24</th>\n",
       "      <td>1.728264e+09</td>\n",
       "    </tr>\n",
       "    <tr>\n",
       "      <th>2021-05-25</th>\n",
       "      <td>1.759635e+09</td>\n",
       "    </tr>\n",
       "    <tr>\n",
       "      <th>2021-05-26</th>\n",
       "      <td>1.791267e+09</td>\n",
       "    </tr>\n",
       "    <tr>\n",
       "      <th>2021-05-27</th>\n",
       "      <td>1.823496e+09</td>\n",
       "    </tr>\n",
       "    <tr>\n",
       "      <th>2021-05-28</th>\n",
       "      <td>1.856330e+09</td>\n",
       "    </tr>\n",
       "    <tr>\n",
       "      <th>2021-05-29</th>\n",
       "      <td>1.889637e+09</td>\n",
       "    </tr>\n",
       "    <tr>\n",
       "      <th>2021-05-30</th>\n",
       "      <td>1.923492e+09</td>\n",
       "    </tr>\n",
       "    <tr>\n",
       "      <th>2021-05-31</th>\n",
       "      <td>1.957934e+09</td>\n",
       "    </tr>\n",
       "    <tr>\n",
       "      <th>2021-06-01</th>\n",
       "      <td>1.992929e+09</td>\n",
       "    </tr>\n",
       "    <tr>\n",
       "      <th>2021-06-02</th>\n",
       "      <td>2.028495e+09</td>\n",
       "    </tr>\n",
       "    <tr>\n",
       "      <th>2021-06-03</th>\n",
       "      <td>2.064655e+09</td>\n",
       "    </tr>\n",
       "    <tr>\n",
       "      <th>2021-06-04</th>\n",
       "      <td>2.101409e+09</td>\n",
       "    </tr>\n",
       "    <tr>\n",
       "      <th>2021-06-05</th>\n",
       "      <td>2.138765e+09</td>\n",
       "    </tr>\n",
       "    <tr>\n",
       "      <th>2021-06-06</th>\n",
       "      <td>2.176738e+09</td>\n",
       "    </tr>\n",
       "    <tr>\n",
       "      <th>2021-06-07</th>\n",
       "      <td>2.215337e+09</td>\n",
       "    </tr>\n",
       "    <tr>\n",
       "      <th>2021-06-08</th>\n",
       "      <td>2.254570e+09</td>\n",
       "    </tr>\n",
       "    <tr>\n",
       "      <th>2021-06-09</th>\n",
       "      <td>2.294450e+09</td>\n",
       "    </tr>\n",
       "    <tr>\n",
       "      <th>2021-06-10</th>\n",
       "      <td>2.334987e+09</td>\n",
       "    </tr>\n",
       "    <tr>\n",
       "      <th>2021-06-11</th>\n",
       "      <td>2.376191e+09</td>\n",
       "    </tr>\n",
       "    <tr>\n",
       "      <th>2021-06-12</th>\n",
       "      <td>2.418074e+09</td>\n",
       "    </tr>\n",
       "    <tr>\n",
       "      <th>2021-06-13</th>\n",
       "      <td>2.460646e+09</td>\n",
       "    </tr>\n",
       "    <tr>\n",
       "      <th>2021-06-14</th>\n",
       "      <td>2.503919e+09</td>\n",
       "    </tr>\n",
       "    <tr>\n",
       "      <th>2021-06-15</th>\n",
       "      <td>2.547905e+09</td>\n",
       "    </tr>\n",
       "  </tbody>\n",
       "</table>\n",
       "</div>"
      ],
      "text/plain": [
       "             Predictions\n",
       "idx                     \n",
       "2021-05-17  1.521054e+09\n",
       "2021-05-18  1.552011e+09\n",
       "2021-05-19  1.580468e+09\n",
       "2021-05-20  1.607812e+09\n",
       "2021-05-21  1.637655e+09\n",
       "2021-05-22  1.667709e+09\n",
       "2021-05-23  1.697503e+09\n",
       "2021-05-24  1.728264e+09\n",
       "2021-05-25  1.759635e+09\n",
       "2021-05-26  1.791267e+09\n",
       "2021-05-27  1.823496e+09\n",
       "2021-05-28  1.856330e+09\n",
       "2021-05-29  1.889637e+09\n",
       "2021-05-30  1.923492e+09\n",
       "2021-05-31  1.957934e+09\n",
       "2021-06-01  1.992929e+09\n",
       "2021-06-02  2.028495e+09\n",
       "2021-06-03  2.064655e+09\n",
       "2021-06-04  2.101409e+09\n",
       "2021-06-05  2.138765e+09\n",
       "2021-06-06  2.176738e+09\n",
       "2021-06-07  2.215337e+09\n",
       "2021-06-08  2.254570e+09\n",
       "2021-06-09  2.294450e+09\n",
       "2021-06-10  2.334987e+09\n",
       "2021-06-11  2.376191e+09\n",
       "2021-06-12  2.418074e+09\n",
       "2021-06-13  2.460646e+09\n",
       "2021-06-14  2.503919e+09\n",
       "2021-06-15  2.547905e+09"
      ]
     },
     "execution_count": 56,
     "metadata": {},
     "output_type": "execute_result"
    }
   ],
   "source": [
    "#Creating dataframe with columns index,predicted values for plotting\n",
    "index_future_dates=pd.date_range(start='2021-05-17',end='2021-06-15')\n",
    "print(index_future_dates)\n",
    "data = {'idx':index_future_dates,\n",
    "        'Predictions':next30_pred_lin}\n",
    "lin_pred_df = pd.DataFrame(data)\n",
    "lin_pred_df.set_index('idx',inplace = True)\n",
    "lin_pred_df"
   ]
  },
  {
   "cell_type": "code",
   "execution_count": 57,
   "metadata": {},
   "outputs": [
    {
     "data": {
      "image/png": "[encoded data removed]",
      "text/plain": [
       "<Figure size 792x432 with 1 Axes>"
      ]
     },
     "metadata": {
      "needs_background": "light"
     },
     "output_type": "display_data"
    }
   ],
   "source": [
    "import matplotlib.pyplot as plt\n",
    "plt.rcParams[\"figure.figsize\"] = (11,6)\n",
    "plt.plot(y,label='Actual Total Vaccinations')\n",
    "plt.plot(lin_pred_df,label='Linear_Regression_Total_Vaccination_Predictions')\n",
    "plt.legend(loc=\"upper left\")\n",
    "plt.show()"
   ]
  },
  {
   "cell_type": "markdown",
   "metadata": {},
   "source": [
    "### Random Forest Model forecasting for next 1 month"
   ]
  },
  {
   "cell_type": "code",
   "execution_count": 58,
   "metadata": {},
   "outputs": [
    {
     "name": "stdout",
     "output_type": "stream",
     "text": [
      "[1474884743.86, 1474884743.86, 1474884743.86, 1474884743.86, 1474884743.86, 1474884743.86, 1474884743.86, 1474884743.86, 1474884743.86, 1474884743.86, 1474884743.86, 1474884743.86, 1474884743.86, 1474884743.86, 1474884743.86, 1474884743.86, 1474884743.86, 1474884743.86, 1474884743.86, 1474884743.86, 1474884743.86, 1474884743.86, 1474884743.86, 1474884743.86, 1474884743.86, 1474884743.86, 1474884743.86, 1474884743.86, 1474884743.86, 1474884743.86]\n"
     ]
    }
   ],
   "source": [
    "#Random Forest model next 30 days predictions\n",
    "next30_pred_RF = []\n",
    "last = timeseries['total_vaccinations'][-1]\n",
    "secondLast = rf_pred[-1]\n",
    "thirdLast = rf_pred[-2]\n",
    "arr = np.array([last,secondLast,thirdLast])\n",
    "arr_2d=arr.reshape(1, -1)\n",
    "for i in range(30):\n",
    "    curr_pred_val = RF_model.predict(arr_2d)\n",
    "    next30_pred_RF.append(curr_pred_val[0])\n",
    "    thirdLast = secondLast\n",
    "    secondLast = last\n",
    "    last = curr_pred_val[0]\n",
    "    arr = np.array([last,secondLast,thirdLast])\n",
    "    arr_2d=arr.reshape(1, -1)\n",
    "print(next30_pred_RF)"
   ]
  },
  {
   "cell_type": "code",
   "execution_count": 59,
   "metadata": {},
   "outputs": [
    {
     "name": "stdout",
     "output_type": "stream",
     "text": [
      "DatetimeIndex(['2021-05-17', '2021-05-18', '2021-05-19', '2021-05-20',\n",
      "               '2021-05-21', '2021-05-22', '2021-05-23', '2021-05-24',\n",
      "               '2021-05-25', '2021-05-26', '2021-05-27', '2021-05-28',\n",
      "               '2021-05-29', '2021-05-30', '2021-05-31', '2021-06-01',\n",
      "               '2021-06-02', '2021-06-03', '2021-06-04', '2021-06-05',\n",
      "               '2021-06-06', '2021-06-07', '2021-06-08', '2021-06-09',\n",
      "               '2021-06-10', '2021-06-11', '2021-06-12', '2021-06-13',\n",
      "               '2021-06-14', '2021-06-15'],\n",
      "              dtype='datetime64[ns]', freq='D')\n"
     ]
    },
    {
     "data": {
      "text/html": [
       "<div>\n",
       "<style scoped>\n",
       "    .dataframe tbody tr th:only-of-type {\n",
       "        vertical-align: middle;\n",
       "    }\n",
       "\n",
       "    .dataframe tbody tr th {\n",
       "        vertical-align: top;\n",
       "    }\n",
       "\n",
       "    .dataframe thead th {\n",
       "        text-align: right;\n",
       "    }\n",
       "</style>\n",
       "<table border=\"1\" class=\"dataframe\">\n",
       "  <thead>\n",
       "    <tr style=\"text-align: right;\">\n",
       "      <th></th>\n",
       "      <th>Predictions</th>\n",
       "    </tr>\n",
       "    <tr>\n",
       "      <th>idx</th>\n",
       "      <th></th>\n",
       "    </tr>\n",
       "  </thead>\n",
       "  <tbody>\n",
       "    <tr>\n",
       "      <th>2021-05-17</th>\n",
       "      <td>1.474885e+09</td>\n",
       "    </tr>\n",
       "    <tr>\n",
       "      <th>2021-05-18</th>\n",
       "      <td>1.474885e+09</td>\n",
       "    </tr>\n",
       "    <tr>\n",
       "      <th>2021-05-19</th>\n",
       "      <td>1.474885e+09</td>\n",
       "    </tr>\n",
       "    <tr>\n",
       "      <th>2021-05-20</th>\n",
       "      <td>1.474885e+09</td>\n",
       "    </tr>\n",
       "    <tr>\n",
       "      <th>2021-05-21</th>\n",
       "      <td>1.474885e+09</td>\n",
       "    </tr>\n",
       "    <tr>\n",
       "      <th>2021-05-22</th>\n",
       "      <td>1.474885e+09</td>\n",
       "    </tr>\n",
       "    <tr>\n",
       "      <th>2021-05-23</th>\n",
       "      <td>1.474885e+09</td>\n",
       "    </tr>\n",
       "    <tr>\n",
       "      <th>2021-05-24</th>\n",
       "      <td>1.474885e+09</td>\n",
       "    </tr>\n",
       "    <tr>\n",
       "      <th>2021-05-25</th>\n",
       "      <td>1.474885e+09</td>\n",
       "    </tr>\n",
       "    <tr>\n",
       "      <th>2021-05-26</th>\n",
       "      <td>1.474885e+09</td>\n",
       "    </tr>\n",
       "    <tr>\n",
       "      <th>2021-05-27</th>\n",
       "      <td>1.474885e+09</td>\n",
       "    </tr>\n",
       "    <tr>\n",
       "      <th>2021-05-28</th>\n",
       "      <td>1.474885e+09</td>\n",
       "    </tr>\n",
       "    <tr>\n",
       "      <th>2021-05-29</th>\n",
       "      <td>1.474885e+09</td>\n",
       "    </tr>\n",
       "    <tr>\n",
       "      <th>2021-05-30</th>\n",
       "      <td>1.474885e+09</td>\n",
       "    </tr>\n",
       "    <tr>\n",
       "      <th>2021-05-31</th>\n",
       "      <td>1.474885e+09</td>\n",
       "    </tr>\n",
       "    <tr>\n",
       "      <th>2021-06-01</th>\n",
       "      <td>1.474885e+09</td>\n",
       "    </tr>\n",
       "    <tr>\n",
       "      <th>2021-06-02</th>\n",
       "      <td>1.474885e+09</td>\n",
       "    </tr>\n",
       "    <tr>\n",
       "      <th>2021-06-03</th>\n",
       "      <td>1.474885e+09</td>\n",
       "    </tr>\n",
       "    <tr>\n",
       "      <th>2021-06-04</th>\n",
       "      <td>1.474885e+09</td>\n",
       "    </tr>\n",
       "    <tr>\n",
       "      <th>2021-06-05</th>\n",
       "      <td>1.474885e+09</td>\n",
       "    </tr>\n",
       "    <tr>\n",
       "      <th>2021-06-06</th>\n",
       "      <td>1.474885e+09</td>\n",
       "    </tr>\n",
       "    <tr>\n",
       "      <th>2021-06-07</th>\n",
       "      <td>1.474885e+09</td>\n",
       "    </tr>\n",
       "    <tr>\n",
       "      <th>2021-06-08</th>\n",
       "      <td>1.474885e+09</td>\n",
       "    </tr>\n",
       "    <tr>\n",
       "      <th>2021-06-09</th>\n",
       "      <td>1.474885e+09</td>\n",
       "    </tr>\n",
       "    <tr>\n",
       "      <th>2021-06-10</th>\n",
       "      <td>1.474885e+09</td>\n",
       "    </tr>\n",
       "    <tr>\n",
       "      <th>2021-06-11</th>\n",
       "      <td>1.474885e+09</td>\n",
       "    </tr>\n",
       "    <tr>\n",
       "      <th>2021-06-12</th>\n",
       "      <td>1.474885e+09</td>\n",
       "    </tr>\n",
       "    <tr>\n",
       "      <th>2021-06-13</th>\n",
       "      <td>1.474885e+09</td>\n",
       "    </tr>\n",
       "    <tr>\n",
       "      <th>2021-06-14</th>\n",
       "      <td>1.474885e+09</td>\n",
       "    </tr>\n",
       "    <tr>\n",
       "      <th>2021-06-15</th>\n",
       "      <td>1.474885e+09</td>\n",
       "    </tr>\n",
       "  </tbody>\n",
       "</table>\n",
       "</div>"
      ],
      "text/plain": [
       "             Predictions\n",
       "idx                     \n",
       "2021-05-17  1.474885e+09\n",
       "2021-05-18  1.474885e+09\n",
       "2021-05-19  1.474885e+09\n",
       "2021-05-20  1.474885e+09\n",
       "2021-05-21  1.474885e+09\n",
       "2021-05-22  1.474885e+09\n",
       "2021-05-23  1.474885e+09\n",
       "2021-05-24  1.474885e+09\n",
       "2021-05-25  1.474885e+09\n",
       "2021-05-26  1.474885e+09\n",
       "2021-05-27  1.474885e+09\n",
       "2021-05-28  1.474885e+09\n",
       "2021-05-29  1.474885e+09\n",
       "2021-05-30  1.474885e+09\n",
       "2021-05-31  1.474885e+09\n",
       "2021-06-01  1.474885e+09\n",
       "2021-06-02  1.474885e+09\n",
       "2021-06-03  1.474885e+09\n",
       "2021-06-04  1.474885e+09\n",
       "2021-06-05  1.474885e+09\n",
       "2021-06-06  1.474885e+09\n",
       "2021-06-07  1.474885e+09\n",
       "2021-06-08  1.474885e+09\n",
       "2021-06-09  1.474885e+09\n",
       "2021-06-10  1.474885e+09\n",
       "2021-06-11  1.474885e+09\n",
       "2021-06-12  1.474885e+09\n",
       "2021-06-13  1.474885e+09\n",
       "2021-06-14  1.474885e+09\n",
       "2021-06-15  1.474885e+09"
      ]
     },
     "execution_count": 59,
     "metadata": {},
     "output_type": "execute_result"
    }
   ],
   "source": [
    "#Creating dataframe with columns index,predicted values for plotting\n",
    "index_future_dates=pd.date_range(start='2021-05-17',end='2021-06-15')\n",
    "print(index_future_dates)\n",
    "data = {'idx':index_future_dates,\n",
    "        'Predictions':next30_pred_RF}\n",
    "RF_pred_df = pd.DataFrame(data)\n",
    "RF_pred_df.set_index('idx',inplace = True)\n",
    "RF_pred_df"
   ]
  },
  {
   "cell_type": "code",
   "execution_count": 60,
   "metadata": {},
   "outputs": [
    {
     "data": {
      "image/png": "[encoded data removed]",
      "text/plain": [
       "<Figure size 792x432 with 1 Axes>"
      ]
     },
     "metadata": {
      "needs_background": "light"
     },
     "output_type": "display_data"
    }
   ],
   "source": [
    "import matplotlib.pyplot as plt\n",
    "plt.rcParams[\"figure.figsize\"] = (11,6)\n",
    "plt.plot(y,label='Actual Total Vaccinations')\n",
    "plt.plot(RF_pred_df,label='Linear_Regression_Total_Vaccination_Predictions')\n",
    "plt.legend(loc=\"upper left\")\n",
    "plt.show()"
   ]
  }
 ],
 "metadata": {
  "kernelspec": {
   "display_name": "Python 3",
   "language": "python",
   "name": "python3"
  },
  "language_info": {
   "codemirror_mode": {
    "name": "ipython",
    "version": 3
   },
   "file_extension": ".py",
   "mimetype": "text/x-python",
   "name": "python",
   "nbconvert_exporter": "python",
   "pygments_lexer": "ipython3",
   "version": "3.8.3"
  }
 },
 "nbformat": 4,
 "nbformat_minor": 4
}
